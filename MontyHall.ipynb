{
 "cells": [
  {
   "cell_type": "code",
   "execution_count": 1,
   "metadata": {},
   "outputs": [],
   "source": [
    "import numpy as np"
   ]
  },
  {
   "cell_type": "code",
   "execution_count": 27,
   "metadata": {},
   "outputs": [],
   "source": [
    "Ngames = 10000\n",
    "carPosList=[]\n",
    "contestantChoiceList = []\n",
    "MontyShowsList = []\n",
    "for i in range(Ngames):\n",
    "    carPos = np.random.choice([1,2,3])    \n",
    "    contestanChooses = np.random.choice([1,2,3])    \n",
    "    carPosList.append(carPos)\n",
    "    contestantChoiceList.append(contestanChooses)\n",
    "    if carPos==contestanChooses:\n",
    "            AllDoors = [1,2,3]\n",
    "            AllDoors.remove(carPos)\n",
    "            remainingDoors = AllDoors\n",
    "            MontyShows = np.random.choice(remainingDoors)\n",
    "            MontyShowsList.append(MontyShows)\n",
    "    else:\n",
    "        AllDoors = [1,2,3]\n",
    "        AllDoors.remove(carPos)\n",
    "        AllDoors.remove(contestanChooses)\n",
    "        remainingDoors = AllDoors\n",
    "        MontyShows = np.random.choice(remainingDoors)\n",
    "        MontyShowsList.append(MontyShows)\n",
    "                                "
   ]
  },
  {
   "cell_type": "code",
   "execution_count": 30,
   "metadata": {},
   "outputs": [],
   "source": [
    "def getWinProb(carList,contestantList):\n",
    "    N = len(carList)\n",
    "    count = 0\n",
    "    for n in range(N):\n",
    "        if carList[n]==contestantList[n]:\n",
    "            count+=1\n",
    "    return count/N"
   ]
  },
  {
   "cell_type": "code",
   "execution_count": 32,
   "metadata": {},
   "outputs": [
    {
     "name": "stdout",
     "output_type": "stream",
     "text": [
      "0.3369\n"
     ]
    }
   ],
   "source": [
    "#Contestant sticks with original door\n",
    "sticksProb = getWinProb(carPosList,contestantChoiceList)\n",
    "print(sticksProb)"
   ]
  },
  {
   "cell_type": "code",
   "execution_count": 34,
   "metadata": {},
   "outputs": [
    {
     "ename": "AttributeError",
     "evalue": "'NoneType' object has no attribute 'remove'",
     "output_type": "error",
     "traceback": [
      "\u001b[1;31m---------------------------------------------------------------------------\u001b[0m",
      "\u001b[1;31mAttributeError\u001b[0m                            Traceback (most recent call last)",
      "\u001b[1;32m<ipython-input-34-7d6a6f631603>\u001b[0m in \u001b[0;36m<module>\u001b[1;34m\u001b[0m\n\u001b[0;32m      3\u001b[0m     \u001b[0mallDoors\u001b[0m \u001b[1;33m=\u001b[0m \u001b[1;33m[\u001b[0m\u001b[1;36m1\u001b[0m\u001b[1;33m,\u001b[0m\u001b[1;36m2\u001b[0m\u001b[1;33m,\u001b[0m\u001b[1;36m3\u001b[0m\u001b[1;33m]\u001b[0m\u001b[1;33m\u001b[0m\u001b[1;33m\u001b[0m\u001b[0m\n\u001b[0;32m      4\u001b[0m     \u001b[0mcarNotIn\u001b[0m \u001b[1;33m=\u001b[0m \u001b[0mallDoors\u001b[0m\u001b[1;33m.\u001b[0m\u001b[0mremove\u001b[0m\u001b[1;33m(\u001b[0m\u001b[0mcarPosList\u001b[0m\u001b[1;33m[\u001b[0m\u001b[0mn\u001b[0m\u001b[1;33m]\u001b[0m\u001b[1;33m)\u001b[0m\u001b[1;33m\u001b[0m\u001b[1;33m\u001b[0m\u001b[0m\n\u001b[1;32m----> 5\u001b[1;33m     \u001b[0mcontestantSwapsTo\u001b[0m \u001b[1;33m=\u001b[0m \u001b[0mcarNotIn\u001b[0m\u001b[1;33m.\u001b[0m\u001b[0mremove\u001b[0m\u001b[1;33m(\u001b[0m\u001b[0mcontestantChoiceList\u001b[0m\u001b[1;33m[\u001b[0m\u001b[0mn\u001b[0m\u001b[1;33m]\u001b[0m\u001b[1;33m)\u001b[0m\u001b[1;33m\u001b[0m\u001b[1;33m\u001b[0m\u001b[0m\n\u001b[0m\u001b[0;32m      6\u001b[0m     \u001b[0mcontestantChoiceList_updated\u001b[0m\u001b[1;33m.\u001b[0m\u001b[0mappend\u001b[0m\u001b[1;33m(\u001b[0m\u001b[0mcontestantSwapsTo\u001b[0m\u001b[1;33m)\u001b[0m\u001b[1;33m\u001b[0m\u001b[1;33m\u001b[0m\u001b[0m\n",
      "\u001b[1;31mAttributeError\u001b[0m: 'NoneType' object has no attribute 'remove'"
     ]
    }
   ],
   "source": [
    "contestantChoiceList_updated = []\n",
    "for n in range(Ngames):\n",
    "    allDoors = [1,2,3]\n",
    "    carNotIn = allDoors.remove(carPosList[n])\n",
    "    contestantSwapsTo = carNotIn.remove(contestantChoiceList[n])\n",
    "    contestantChoiceList_updated.append(contestantSwapsTo)\n"
   ]
  },
  {
   "cell_type": "code",
   "execution_count": null,
   "metadata": {},
   "outputs": [],
   "source": [
    "#Contestant swaps choice\n",
    "sticksProb = getWinProb(carPosList,contestantChoiceList)\n",
    "print(sticksProb)"
   ]
  }
 ],
 "metadata": {
  "kernelspec": {
   "display_name": "Python 3",
   "language": "python",
   "name": "python3"
  },
  "language_info": {
   "codemirror_mode": {
    "name": "ipython",
    "version": 3
   },
   "file_extension": ".py",
   "mimetype": "text/x-python",
   "name": "python",
   "nbconvert_exporter": "python",
   "pygments_lexer": "ipython3",
   "version": "3.7.4"
  }
 },
 "nbformat": 4,
 "nbformat_minor": 2
}
