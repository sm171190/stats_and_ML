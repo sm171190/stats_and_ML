{
 "cells": [
  {
   "cell_type": "code",
   "execution_count": 1,
   "metadata": {},
   "outputs": [],
   "source": [
    "import numpy as np\n",
    "import matplotlib.pyplot as plt\n",
    "%matplotlib inline\n",
    "from sklearn.linear_model import LogisticRegression "
   ]
  },
  {
   "cell_type": "markdown",
   "metadata": {},
   "source": [
    "### Create Data"
   ]
  },
  {
   "cell_type": "code",
   "execution_count": 37,
   "metadata": {},
   "outputs": [
    {
     "data": {
      "image/png": "[encoded data removed]",
      "text/plain": [
       "<Figure size 432x288 with 1 Axes>"
      ]
     },
     "metadata": {
      "needs_background": "light"
     },
     "output_type": "display_data"
    },
    {
     "name": "stdout",
     "output_type": "stream",
     "text": [
      "(1000, 4)\n",
      "(1000, 4)\n"
     ]
    },
    {
     "ename": "TypeError",
     "evalue": "only integer scalar arrays can be converted to a scalar index",
     "output_type": "error",
     "traceback": [
      "\u001b[1;31m---------------------------------------------------------------------------\u001b[0m",
      "\u001b[1;31mTypeError\u001b[0m                                 Traceback (most recent call last)",
      "\u001b[1;32m<ipython-input-37-e9a494675926>\u001b[0m in \u001b[0;36m<module>\u001b[1;34m\u001b[0m\n\u001b[0;32m     34\u001b[0m \u001b[0mprint\u001b[0m\u001b[1;33m(\u001b[0m\u001b[0mXinner\u001b[0m\u001b[1;33m.\u001b[0m\u001b[0mshape\u001b[0m\u001b[1;33m)\u001b[0m\u001b[1;33m\u001b[0m\u001b[1;33m\u001b[0m\u001b[0m\n\u001b[0;32m     35\u001b[0m \u001b[0mprint\u001b[0m\u001b[1;33m(\u001b[0m\u001b[0mXouter\u001b[0m\u001b[1;33m.\u001b[0m\u001b[0mshape\u001b[0m\u001b[1;33m)\u001b[0m\u001b[1;33m\u001b[0m\u001b[1;33m\u001b[0m\u001b[0m\n\u001b[1;32m---> 36\u001b[1;33m \u001b[0mX\u001b[0m \u001b[1;33m=\u001b[0m \u001b[0mnp\u001b[0m\u001b[1;33m.\u001b[0m\u001b[0mconcatenate\u001b[0m\u001b[1;33m(\u001b[0m\u001b[0mXinner\u001b[0m\u001b[1;33m,\u001b[0m\u001b[0mXouter\u001b[0m\u001b[1;33m)\u001b[0m\u001b[1;33m\u001b[0m\u001b[1;33m\u001b[0m\u001b[0m\n\u001b[0m\u001b[0;32m     37\u001b[0m \u001b[1;31m# X.shape\u001b[0m\u001b[1;33m\u001b[0m\u001b[1;33m\u001b[0m\u001b[1;33m\u001b[0m\u001b[0m\n",
      "\u001b[1;31mTypeError\u001b[0m: only integer scalar arrays can be converted to a scalar index"
     ]
    }
   ],
   "source": [
    "Npoints = 1000\n",
    "theta = np.linspace(0,2*np.pi,Npoints)\n",
    "a = 4\n",
    "b=1\n",
    "bias = 1\n",
    "rInner = (a*b)/(np.sqrt(b*np.cos(theta)**2 + a*np.sin(theta)**2))\n",
    "xInner = rInner*np.cos(theta)\n",
    "yInner = rInner*np.sin(theta)\n",
    "plt.scatter(xInner,yInner,label = \"Class 0\")\n",
    "rOuter = (a*b)/(np.sqrt(b*np.cos(theta)**2 + a*np.sin(theta)**2))+bias\n",
    "xOuter = rOuter*np.cos(theta)\n",
    "yOuter = rOuter*np.sin(theta)\n",
    "xInnerSq = xInner**2\n",
    "yInnerSq = yInner**2\n",
    "xOuterSq = xOuter**2\n",
    "yOuterSq = yOuter**2\n",
    "plt.scatter(xOuter,yOuter,label = \"Class 1\")\n",
    "plt.legend()\n",
    "plt.xlabel('x')\n",
    "plt.ylabel('y')\n",
    "plt.title('Original Data')\n",
    "plt.show()\n",
    "\n",
    "xInner = xInner.reshape((Npoints,1))\n",
    "xOuter=xOuter.reshape((Npoints,1))\n",
    "yInner = yInner.reshape((Npoints,1))\n",
    "yOuter = yOuter.reshape((Npoints,1))\n",
    "xInnerSq = xInnerSq.reshape((Npoints,1))\n",
    "yInnerSq = yInnerSq.reshape((Npoints,1))\n",
    "xOuterSq = xOuterSq.reshape((Npoints,1))\n",
    "yOuterSq = yOuterSq.reshape((Npoints,1))\n",
    "Xinner= np.concatenate((xInner,yInner,xInnerSq,yInnerSq),axis=1)\n",
    "Xouter = np.concatenate((xOuter,yOuter,xOuterSq,yOuterSq),axis = 1)\n",
    "print(Xinner.shape)\n",
    "print(Xouter.shape)\n",
    "X = np.concatenate(Xinner,Xouter)\n",
    "# X.shape"
   ]
  },
  {
   "cell_type": "code",
   "execution_count": 5,
   "metadata": {},
   "outputs": [
    {
     "data": {
      "text/plain": [
       "(1000,)"
      ]
     },
     "execution_count": 5,
     "metadata": {},
     "output_type": "execute_result"
    }
   ],
   "source": []
  },
  {
   "cell_type": "code",
   "execution_count": null,
   "metadata": {},
   "outputs": [],
   "source": []
  }
 ],
 "metadata": {
  "kernelspec": {
   "display_name": "Python 3",
   "language": "python",
   "name": "python3"
  },
  "language_info": {
   "codemirror_mode": {
    "name": "ipython",
    "version": 3
   },
   "file_extension": ".py",
   "mimetype": "text/x-python",
   "name": "python",
   "nbconvert_exporter": "python",
   "pygments_lexer": "ipython3",
   "version": "3.7.4"
  }
 },
 "nbformat": 4,
 "nbformat_minor": 2
}
