{
 "cells": [
  {
   "cell_type": "code",
   "execution_count": 1,
   "metadata": {},
   "outputs": [],
   "source": [
    "import numpy as np\n",
    "import matplotlib.pyplot as plt\n",
    "%matplotlib inline\n",
    "from sklearn.linear_model import LinearRegression"
   ]
  },
  {
   "cell_type": "code",
   "execution_count": 2,
   "metadata": {},
   "outputs": [
    {
     "name": "stdout",
     "output_type": "stream",
     "text": [
      "True theta : [0.88971132 0.05193854 0.6667153 ]\n",
      "X.shape: (1000, 2)\n",
      "theta.shape: (3,)\n",
      "yTrue.shape: (1000,)\n",
      "yNoisy.shape:(1000,)\n",
      "(3, 1000)\n"
     ]
    }
   ],
   "source": [
    "m = 2\n",
    "Npoints = 1000\n",
    "X = np.random.randn(Npoints*m).reshape(Npoints,m)\n",
    "theta = np.random.rand(m+1)\n",
    "print(f\"True theta : {theta}\")\n",
    "yTrue = X.dot(theta[:m])+theta[m]\n",
    "noiseAmp = 2\n",
    "yNoisy = yTrue+noiseAmp*np.random.randn(Npoints)\n",
    "print(f\"X.shape: {X.shape}\")\n",
    "print(f\"theta.shape: {theta.shape}\")\n",
    "print(f\"yTrue.shape: {yTrue.shape}\")\n",
    "print(f\"yNoisy.shape:{yNoisy.shape}\")\n",
    "\n",
    "Xtest = np.concatenate((np.ones((Npoints,1)),X),axis=1)\n",
    "Xtest = Xtest.T\n",
    "print(Xtest.shape)"
   ]
  },
  {
   "cell_type": "code",
   "execution_count": 3,
   "metadata": {},
   "outputs": [],
   "source": [
    "def computeGradientGeneralized(X,y,y_estimate):\n",
    "    '''Computes the gradient for the Quadratic loss function. X is a (1+m)xn augmented numPy array with n observations and m features\n",
    "       X = [1 | X_input].T\n",
    "       delta_y = y-y_estimate , is an nx1 numPy array of the error in estimate at the current iteration.\n",
    "       returns the (1+m)x1 gradient at the current iteration\n",
    "    '''\n",
    "    n = X.shape[1]\n",
    "    delta_y = (y-y_estimate)    \n",
    "    return -(2/n)*X.dot(delta_y)"
   ]
  },
  {
   "cell_type": "code",
   "execution_count": 4,
   "metadata": {},
   "outputs": [],
   "source": [
    "def GradientDescentGeneralized(X,y,start,step_size,tolerance,Niter):    \n",
    "    ''' Will perform gradient descent on X (nxm), using target y (nx1) \n",
    "    '''\n",
    "    X = np.concatenate((np.ones((Npoints,1)),X),axis=1)\n",
    "    X = X.T    \n",
    "    print(f\"X.shape = {X.shape}\")\n",
    "    gradNorm = 10000\n",
    "    i = 0\n",
    "    current_theta_estimate = start\n",
    "    norms = []\n",
    "    n = X.shape[0]            \n",
    "    while i<Niter and gradNorm > tolerance:                \n",
    "        y_estimate = current_theta_estimate.dot(X)\n",
    "        grad = computeGradientGeneralized(X,y,y_estimate)\n",
    "        gradNorm = np.sqrt((grad.T).dot(grad))\n",
    "        norms.append(gradNorm)        \n",
    "        current_theta_estimate = current_theta_estimate - step_size*grad\n",
    "        i+=1\n",
    "    plt.plot(np.array(list(range(1,i+1))),norms)\n",
    "    plt.xlabel('Iterations')\n",
    "    plt.ylabel('||gradient||')\n",
    "    plt.grid(True)\n",
    "    plt.title(\"Convergence of gradient descent\")\n",
    "    print(f\"Started at location {start}\")\n",
    "    print(f\"Finished with {i} iterations\")\n",
    "    print(f\"Finished with gradient norm = {gradNorm}\")\n",
    "    print(f\"Finished at location {current_theta_estimate}\")\n",
    "    return current_theta_estimate\n",
    "    "
   ]
  },
  {
   "cell_type": "code",
   "execution_count": 5,
   "metadata": {},
   "outputs": [],
   "source": [
    "def VanillaLinearRegressionGeneralized(X,y):    \n",
    "    '''Assumes that the input matrix is an nx1 numPy array with n observations and y is an nx1 target vector \n",
    "    '''\n",
    "    n,m = X.shape\n",
    "    print(f\"(n,m)=({n},{m})\")\n",
    "    theta_eatimate_start = np.random.rand(m+1)\n",
    "    print(f\"theta_estimate_start: {theta_eatimate_start}\")\n",
    "    learning_rate = 1e-1\n",
    "    err_tolerance = 1e-6\n",
    "    MaxIter = 50000\n",
    "    estimated_coeff = GradientDescentGeneralized(X,y,theta_eatimate_start,learning_rate,err_tolerance,MaxIter)\n",
    "    return estimated_coeff\n",
    "\n",
    "    \n",
    "    \n",
    "    \n",
    "\n",
    "\n",
    "    \n",
    "    \n",
    "    "
   ]
  },
  {
   "cell_type": "code",
   "execution_count": 9,
   "metadata": {},
   "outputs": [
    {
     "name": "stdout",
     "output_type": "stream",
     "text": [
      "(n,m)=(1000,2)\n",
      "theta_estimate_start: [0.65370528 0.70731529 0.36034643]\n",
      "X.shape = (3, 1000)\n",
      "Started at location [0.65370528 0.70731529 0.36034643]\n",
      "Finished with 65 iterations\n",
      "Finished with gradient norm = 9.807572611845027e-07\n",
      "Finished at location [0.61444751 0.76669669 0.01412282]\n"
     ]
    },
    {
     "data": {
      "image/png": "[encoded data removed]",
      "text/plain": [
       "<Figure size 432x288 with 1 Axes>"
      ]
     },
     "metadata": {
      "needs_background": "light"
     },
     "output_type": "display_data"
    }
   ],
   "source": [
    "theta_est = VanillaLinearRegressionGeneralized(X,yNoisy)"
   ]
  },
  {
   "cell_type": "code",
   "execution_count": 10,
   "metadata": {},
   "outputs": [
    {
     "data": {
      "text/plain": [
       "array([0.61444751, 0.76669669, 0.01412282])"
      ]
     },
     "execution_count": 10,
     "metadata": {},
     "output_type": "execute_result"
    }
   ],
   "source": [
    "theta_est"
   ]
  },
  {
   "cell_type": "code",
   "execution_count": 11,
   "metadata": {},
   "outputs": [
    {
     "name": "stdout",
     "output_type": "stream",
     "text": [
      "Performance: RMSE_start: 1.9583195479394473, RMSE_model: 2.177504859184213\n"
     ]
    }
   ],
   "source": [
    "y_pred = X.dot(theta_est[:m])+theta_est[m]\n",
    "rmse_original = np.sqrt(((yTrue-yNoisy).T).dot(yTrue-yNoisy)/Npoints)\n",
    "rmse_pred = np.sqrt(((yNoisy-y_pred).T).dot(yNoisy-y_pred)/Npoints)\n",
    "print(f'Performance: RMSE_start: {rmse_original}, RMSE_model: {rmse_pred}')\n"
   ]
  },
  {
   "cell_type": "code",
   "execution_count": 12,
   "metadata": {},
   "outputs": [
    {
     "name": "stdout",
     "output_type": "stream",
     "text": [
      "[0.61444755 0.76669653 0.01412242]\n"
     ]
    }
   ],
   "source": [
    "linReg = LinearRegression()\n",
    "linReg.fit(X,yNoisy)\n",
    "theta_skl = np.concatenate((np.array([linReg.intercept_]),linReg.coef_))\n",
    "print(theta_skl)"
   ]
  },
  {
   "cell_type": "code",
   "execution_count": null,
   "metadata": {},
   "outputs": [],
   "source": []
  }
 ],
 "metadata": {
  "kernelspec": {
   "display_name": "Python 3",
   "language": "python",
   "name": "python3"
  },
  "language_info": {
   "codemirror_mode": {
    "name": "ipython",
    "version": 3
   },
   "file_extension": ".py",
   "mimetype": "text/x-python",
   "name": "python",
   "nbconvert_exporter": "python",
   "pygments_lexer": "ipython3",
   "version": "3.7.4"
  }
 },
 "nbformat": 4,
 "nbformat_minor": 2
}
