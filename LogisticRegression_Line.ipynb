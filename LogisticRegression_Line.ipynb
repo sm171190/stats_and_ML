{
 "cells": [
  {
   "cell_type": "code",
   "execution_count": null,
   "metadata": {
    "scrolled": true
   },
   "outputs": [],
   "source": [
    "import numpy as np\n",
    "import matplotlib.pyplot as plt\n",
    "%matplotlib inline\n",
    "from sklearn.linear_model import LogisticRegression "
   ]
  },
  {
   "cell_type": "markdown",
   "metadata": {},
   "source": [
    "### Create Data"
   ]
  },
  {
   "cell_type": "code",
   "execution_count": 18,
   "metadata": {
    "scrolled": true
   },
   "outputs": [
    {
     "data": {
      "image/png": "[encoded data removed]",
      "text/plain": [
       "<Figure size 432x288 with 1 Axes>"
      ]
     },
     "metadata": {
      "needs_background": "light"
     },
     "output_type": "display_data"
    },
    {
     "name": "stdout",
     "output_type": "stream",
     "text": [
      "Original X.shape: (2000, 1)\n",
      "X.shape after adding the labels: (2000, 2)\n",
      "y.shape for the labels: (2000, 1)\n"
     ]
    }
   ],
   "source": [
    "xstart=0\n",
    "xstop = 50\n",
    "Npoints = 1000\n",
    "x = np.linspace(xstart,xstop,Npoints).reshape(Npoints,1)\n",
    "# mTrue = np.random.randn(1)\n",
    "# cTrue = np.random.randn(1)\n",
    "mTrue = 2.5\n",
    "cTrue = 1.5\n",
    "\n",
    "yTrue = mTrue*x+cTrue\n",
    "noiseAmp = 10\n",
    "bias = -20\n",
    "yNoisyUpper = yTrue+noiseAmp*np.random.random(Npoints).reshape(Npoints,1)+bias\n",
    "yNoisyLower = yTrue-noiseAmp*np.random.random(Npoints).reshape(Npoints,1)-bias\n",
    "yNoisy = np.concatenate((yNoisyLower,yNoisyUpper),axis=0)\n",
    "plt.scatter(x,yNoisyUpper,label='Class 1')\n",
    "plt.scatter(x,yNoisyLower,label='Class 0')\n",
    "\n",
    "plt.plot(x,yTrue,'r-',label='Decision boundary')\n",
    "plt.xlabel('x')\n",
    "plt.ylabel('y')\n",
    "plt.title('True f(x,y)')\n",
    "plt.legend()\n",
    "plt.grid(True)\n",
    "plt.show()\n",
    "X = np.concatenate((x,x),axis=0)\n",
    "print(f\"Original X.shape: {X.shape}\")\n",
    "X = np.concatenate((X,yNoisy),axis=1)\n",
    "print(f\"X.shape after adding the labels: {X.shape}\")\n",
    "y = np.concatenate((np.zeros((Npoints,1)),np.ones((Npoints,1))),axis=0)\n",
    "print(f\"y.shape for the labels: {y.shape}\")"
   ]
  },
  {
   "cell_type": "code",
   "execution_count": null,
   "metadata": {
    "scrolled": true
   },
   "outputs": [],
   "source": [
    "def sigma(z):\n",
    "    '''Computes the sigmoid for a numpy array z\n",
    "    '''\n",
    "    return 1/(1+np.exp(-z))"
   ]
  },
  {
   "cell_type": "code",
   "execution_count": null,
   "metadata": {
    "scrolled": true
   },
   "outputs": [],
   "source": [
    "def computeGradient(x,y,z):\n",
    "    '''Computes the gradient for the cross entropy loss function. x,y are (n,) numPy arrays, signifying the 2 features.\n",
    "       z =  theta0+theta1x+theta2y is an (n,) numPy array. Returns the (3,) gradient at the current iteration.\n",
    "    '''\n",
    "    n = x.shape[0]\n",
    "    sigma_z = sigma(z)\n",
    "#     print(f\"sigma_z: {sigma_z}\")\n",
    "#     print(f\"sigma_z.shape: {sigma_z.shape}\")\n",
    "#     estimation_error = (y/sigma_z)-((1-y)/(1-sigma_z))\n",
    "    estimation_error = sigma_z-y\n",
    "    term1 = sum(sigma_z*(1-sigma_z)*estimation_error)\n",
    "    term2 = sum(x*sigma_z*(1-sigma_z)*estimation_error)\n",
    "    term3 = sum(y*sigma_z*(1-sigma_z)*estimation_error)\n",
    "    return (np.array([term1,term2,term3]))/n\n",
    "    \n",
    "    "
   ]
  },
  {
   "cell_type": "code",
   "execution_count": null,
   "metadata": {
    "scrolled": true
   },
   "outputs": [],
   "source": [
    "def GradientDescent(X,y,start,step_size,tolerance,Niter):    \n",
    "    ''' Will perform gradient descent on X (nx2), using target y (nx1) \n",
    "    '''    \n",
    "    gradNorm = 10000\n",
    "    i = 0\n",
    "    current_theta_estimate = start\n",
    "    norms = []\n",
    "    n = X.shape[0]            \n",
    "    while i<Niter and gradNorm > tolerance:        \n",
    "        z_estimate = current_theta_estimate[0]+current_theta_estimate[1]*X[:,0] + current_theta_estimate[2]*X[:,1]\n",
    "#         print(f\"z_estimate.shape = {z_estimate.shape}\")\n",
    "#         print(f\"z_estimate = {z_estimate}\")\n",
    "        grad = computeGradient(X[:,0],X[:,1],z_estimate)\n",
    "#         print(f\"grad = {grad}\")\n",
    "        gradNorm = np.linalg.norm(grad)\n",
    "        norms.append(gradNorm)        \n",
    "        current_theta_estimate = current_theta_estimate - step_size*grad\n",
    "        i+=1\n",
    "    plt.plot(np.array(list(range(1,i+1))),norms)\n",
    "    plt.xlabel('Iterations')\n",
    "    plt.ylabel('||gradient||')\n",
    "    plt.grid(True)\n",
    "    plt.title(\"Convergence of gradient descent\")\n",
    "    print(f\"Started at location {start}\")\n",
    "    print(f\"Finished with {i} iterations\")\n",
    "    print(f\"Finished with gradient norm = {gradNorm}\")\n",
    "    print(f\"Finished at location {current_theta_estimate}\")\n",
    "    return current_theta_estimate\n",
    "    "
   ]
  },
  {
   "cell_type": "code",
   "execution_count": null,
   "metadata": {
    "scrolled": true
   },
   "outputs": [],
   "source": [
    "def VanillaLogisticRegression(X,y):    \n",
    "    '''Assumes that the input matrix is an nx2 numPy array with n observations and y is an nx1 target vector \n",
    "    '''\n",
    "    n = X.shape[0]\n",
    "    theta_estimate_start = np.random.rand(3)\n",
    "    theta_estimate_start = np.array([-cTrue,mTrue,1])\n",
    "    learning_rate = 1e-6\n",
    "    err_tolerance = 1e-6\n",
    "    MaxIter = 1000\n",
    "    estimated_coeff = GradientDescent(X,y,theta_estimate_start,learning_rate,err_tolerance,MaxIter)\n",
    "    return estimated_coeff\n",
    "\n",
    "    \n",
    "    \n",
    "    \n",
    "\n",
    "    \n",
    "    "
   ]
  },
  {
   "cell_type": "code",
   "execution_count": 16,
   "metadata": {
    "scrolled": true
   },
   "outputs": [
    {
     "name": "stdout",
     "output_type": "stream",
     "text": [
      "Started at location [-1.5  2.5  1. ]\n",
      "Finished with 1000 iterations\n",
      "Finished with gradient norm = 0.006429355181319465\n",
      "Finished at location [-1.50000143  2.49999781  1.00000587]\n",
      "theta estimated [ theta0,theta1, theta2]: [-1.50000143  2.49999781  1.00000587]\n",
      "Slope estimated : 2.499983124637193\n",
      "Original slope : 2.5\n",
      "Intercept estimated : 1.4999926149639653\n",
      "Original intercept : 1.5\n",
      "[0, 0, 0, 0, 0, 1, 1, 1, 1, 1, 1]\n",
      "Sum error: 392.0\n",
      "Error probability : 0.196\n"
     ]
    },
    {
     "data": {
      "image/png": "[encoded data removed]",
      "text/plain": [
       "<Figure size 432x288 with 1 Axes>"
      ]
     },
     "metadata": {
      "needs_background": "light"
     },
     "output_type": "display_data"
    }
   ],
   "source": [
    "y=y.reshape(2000,)\n",
    "theta_est = VanillaLogisticRegression(X,y)\n",
    "print(f\"theta estimated [ theta0,theta1, theta2]: {theta_est}\")\n",
    "m_est  = theta_est[1]/theta_est[2]\n",
    "c_est = -theta_est[0]/theta_est[2]\n",
    "y_decision_boundary = m_est*X[:,0] -c_est\n",
    "print(f\"Slope estimated : {m_est}\")\n",
    "print(f\"Original slope : {mTrue}\")\n",
    "print(f\"Intercept estimated : {c_est}\")\n",
    "print(f\"Original intercept : {cTrue}\")\n",
    "y_pred_algo = list(map(lambda q: 0 if q<0 else 1,X[:,1]-y_decision_boundary))\n",
    "print(y_pred_algo[Npoints-5:Npoints+6])\n",
    "sumErr = sum(abs(y_pred_algo-y))\n",
    "print(f\"Sum error: {sumErr}\")\n",
    "errRate = sumErr/(2*Npoints)\n",
    "print(f\"Error probability : {errRate}\")\n"
   ]
  },
  {
   "cell_type": "code",
   "execution_count": 11,
   "metadata": {
    "scrolled": true
   },
   "outputs": [],
   "source": [
    "logReg = LogisticRegression()"
   ]
  },
  {
   "cell_type": "code",
   "execution_count": 12,
   "metadata": {
    "scrolled": true
   },
   "outputs": [
    {
     "name": "stderr",
     "output_type": "stream",
     "text": [
      "C:\\Users\\saurmisr\\AppData\\Local\\Continuum\\anaconda3\\lib\\site-packages\\sklearn\\linear_model\\logistic.py:432: FutureWarning: Default solver will be changed to 'lbfgs' in 0.22. Specify a solver to silence this warning.\n",
      "  FutureWarning)\n"
     ]
    },
    {
     "data": {
      "text/plain": [
       "LogisticRegression(C=1.0, class_weight=None, dual=False, fit_intercept=True,\n",
       "                   intercept_scaling=1, l1_ratio=None, max_iter=100,\n",
       "                   multi_class='warn', n_jobs=None, penalty='l2',\n",
       "                   random_state=None, solver='warn', tol=0.0001, verbose=0,\n",
       "                   warm_start=False)"
      ]
     },
     "execution_count": 12,
     "metadata": {},
     "output_type": "execute_result"
    }
   ],
   "source": [
    "logReg.fit(X,y)\n",
    "# print(X.shape)\n",
    "# print(y.shape)\n",
    "# X : {array-like, sparse matrix}, shape (n_samples, n_features)\n",
    "#     Training vector, where n_samples is the number of samples and\n",
    "#     n_features is the number of features.\n",
    "\n",
    "# y : array-like, shape (n_samples,)\n",
    "#     Target vector relative to X. \n"
   ]
  },
  {
   "cell_type": "code",
   "execution_count": 13,
   "metadata": {
    "scrolled": true
   },
   "outputs": [
    {
     "name": "stdout",
     "output_type": "stream",
     "text": [
      "Predictions change at this point!\n",
      "[0. 0. 0. 1. 1. 1.]\n",
      "Prediction Probabilities change at this point!\n",
      "[[9.99995938e-01 4.06237420e-06]\n",
      " [9.99929469e-01 7.05314677e-05]\n",
      " [9.99996094e-01 3.90593689e-06]\n",
      " [1.24086584e-06 9.99998759e-01]\n",
      " [9.60709027e-05 9.99903929e-01]\n",
      " [5.86315523e-06 9.99994137e-01]]\n",
      "Estimated Coefficients:[theta0,theta1,theta2] : \n",
      "[[-0.0928818  -1.66790126  0.65827048]]\n",
      "Slope estimated : 2.533762828759853\n",
      "Original slope : 2.5\n",
      "Intercept estimated : 0.14109975758143\n",
      "Original intercept : 1.5\n"
     ]
    }
   ],
   "source": [
    "y_pred = logReg.predict(X)\n",
    "y_pred = logReg.predict(X)\n",
    "prob_pred = logReg.predict_proba(X)\n",
    "print(\"Predictions change at this point!\")\n",
    "print(y_pred[Npoints-3:Npoints+3])\n",
    "print(\"Prediction Probabilities change at this point!\")\n",
    "print(prob_pred[Npoints-3:Npoints+3,:])\n",
    "theta_est_skl = np.concatenate((np.array([logReg.intercept_]),logReg.coef_),axis=1)\n",
    "print(\"Estimated Coefficients:[theta0,theta1,theta2] : \")\n",
    "print(theta_est_skl)\n",
    "m_est_skl  = -theta_est_skl[0,1]/theta_est_skl[0,2]\n",
    "c_est_skl = -theta_est_skl[0,0]/theta_est_skl[0,2]\n",
    "print(f\"Slope estimated : {m_est_skl}\")\n",
    "print(f\"Original slope : {mTrue}\")\n",
    "print(f\"Intercept estimated : {c_est_skl}\")\n",
    "print(f\"Original intercept : {cTrue}\")\n",
    "y_decision_boundary_est = m_est_skl*x + c_est_skl"
   ]
  },
  {
   "cell_type": "code",
   "execution_count": 17,
   "metadata": {
    "scrolled": true
   },
   "outputs": [
    {
     "data": {
      "image/png": "[encoded data removed]",
      "text/plain": [
       "<Figure size 432x288 with 1 Axes>"
      ]
     },
     "metadata": {
      "needs_background": "light"
     },
     "output_type": "display_data"
    }
   ],
   "source": [
    "y_decision_boundary = m_est*x + c_est\n",
    "plt.plot(x,yTrue,'b-',label='Original decision boundary')\n",
    "plt.plot(x,y_decision_boundary_est,'r-',label='Skl-Estimated decision boundary')\n",
    "plt.plot(x,y_decision_boundary,'k-',label='Estimated decision boundary')\n",
    "plt.legend()\n",
    "plt.xlabel('x')\n",
    "plt.ylabel('y')\n",
    "plt.title('Original vs Estimated Decision boundary')\n",
    "plt.grid(True)\n",
    "plt.show()"
   ]
  },
  {
   "cell_type": "code",
   "execution_count": null,
   "metadata": {
    "scrolled": true
   },
   "outputs": [],
   "source": []
  },
  {
   "cell_type": "code",
   "execution_count": null,
   "metadata": {
    "scrolled": true
   },
   "outputs": [],
   "source": []
  }
 ],
 "metadata": {
  "kernelspec": {
   "display_name": "Python 3",
   "language": "python",
   "name": "python3"
  },
  "language_info": {
   "codemirror_mode": {
    "name": "ipython",
    "version": 3
   },
   "file_extension": ".py",
   "mimetype": "text/x-python",
   "name": "python",
   "nbconvert_exporter": "python",
   "pygments_lexer": "ipython3",
   "version": "3.7.4"
  }
 },
 "nbformat": 4,
 "nbformat_minor": 2
}
