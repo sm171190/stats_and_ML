{
 "cells": [
  {
   "cell_type": "code",
   "execution_count": null,
   "metadata": {},
   "outputs": [],
   "source": [
    "pip install cvxopt"
   ]
  },
  {
   "cell_type": "code",
   "execution_count": null,
   "metadata": {},
   "outputs": [],
   "source": [
    "from cvxopt import matrix\n",
    "from cvxopt import solvers\n",
    "import numpy as np\n",
    "import matplotlib.pyplot as plt\n",
    "%matplotlib inline"
   ]
  },
  {
   "cell_type": "code",
   "execution_count": null,
   "metadata": {},
   "outputs": [],
   "source": [
    "(a,b,c) = (1,1,1) # ax+by+c = 0\n",
    "Npoints = 10000\n",
    "offset_negative = 5+10*np.random.random((Npoints//2,1))\n",
    "offset_positive = 5+10*np.random.random((Npoints//2,1))\n",
    "x_negative = -20*np.random.random((Npoints//2,1)) # Negative class\n",
    "x_positive = 20*np.random.random((Npoints//2,1))  # Positive class\n",
    "y_negative = -(a/b)*x_negative-(c/b) - offset_negative\n",
    "y_positive = -(a/b)*x_positive-(c/b) + offset_positive\n",
    "labels_negative = -1*np.ones((Npoints//2,1))\n",
    "labels_positive = np.ones((Npoints//2,1))\n",
    "\n",
    "x_all = np.r_[x_negative,x_positive]\n",
    "y_all = np.r_[y_negative,y_positive]\n",
    "y_all_line = -(a/b)*x_all-(c/b)\n",
    "labels_all = np.r_[labels_negative,labels_positive]\n",
    "\n",
    "X = np.c_[x_all,y_all,np.ones((Npoints,1))]\n",
    "print(f'X.shape: {X.shape}')\n",
    "\n",
    "Diag = np.zeros((Npoints,Npoints))\n",
    "np.fill_diagonal(Diag, labels_all)\n",
    "print(f'Diag.shape: {Diag.shape}')\n",
    "\n",
    "G_array = np.dot(Diag,X)\n",
    "print(f'G.shape: {G_array.shape}')"
   ]
  },
  {
   "cell_type": "code",
   "execution_count": null,
   "metadata": {},
   "outputs": [],
   "source": [
    "plt.plot(x_all,y_all_line)\n",
    "plt.scatter(x_all,y_all)\n",
    "plt.grid()\n",
    "plt.show()"
   ]
  },
  {
   "cell_type": "code",
   "execution_count": null,
   "metadata": {},
   "outputs": [],
   "source": [
    "P_array = np.array([[1,0,0],[0,1,0],[0,0,0]])\n",
    "P = matrix(P_array,tc='d')\n",
    "G = matrix(G_array,tc='d')\n",
    "q = matrix(np.array([0,0,0]),tc='d')\n",
    "h = matrix(-1*np.ones((Npoints,1)), tc='d')"
   ]
  },
  {
   "cell_type": "code",
   "execution_count": null,
   "metadata": {},
   "outputs": [],
   "source": [
    "sol = solvers.qp(P,q,G,h)"
   ]
  },
  {
   "cell_type": "code",
   "execution_count": null,
   "metadata": {},
   "outputs": [],
   "source": [
    "len(sol['x'])"
   ]
  },
  {
   "cell_type": "code",
   "execution_count": null,
   "metadata": {},
   "outputs": [],
   "source": [
    "print(sol['x'][0],sol['x'][1],sol['x'][2])\n",
    "print(np.square(sol['x'][0])+np.square(sol['x'][1]+np.square(sol['x'][2])))"
   ]
  },
  {
   "cell_type": "code",
   "execution_count": null,
   "metadata": {},
   "outputs": [],
   "source": [
    "y_all_line_after = -(sol['x'][0]/sol['x'][1])*x_all-(sol['x'][2]/sol['x'][1])\n",
    "plt.plot(x_all,y_all_line_after)\n",
    "plt.scatter(x_all,y_all)\n",
    "plt.grid()\n",
    "plt.show()"
   ]
  },
  {
   "cell_type": "code",
   "execution_count": null,
   "metadata": {},
   "outputs": [],
   "source": [
    "plt.plot(x_all,y_all_line)\n",
    "plt.scatter(x_all,y_all)\n",
    "plt.grid()\n",
    "plt.show()"
   ]
  },
  {
   "cell_type": "code",
   "execution_count": null,
   "metadata": {},
   "outputs": [],
   "source": [
    "import tensorflow as tf"
   ]
  },
  {
   "cell_type": "code",
   "execution_count": null,
   "metadata": {},
   "outputs": [],
   "source": [
    "LogRegModel = tf.keras.Sequential()\n",
    "LogRegModel.add(tf.keras.layers.Input(shape=(Npoints,)))\n",
    "LogRegModel.add(tf.keras.layers.Dense(1, activation='sigmoid'))\n",
    "LogRegModel.output_shape"
   ]
  },
  {
   "cell_type": "code",
   "execution_count": null,
   "metadata": {},
   "outputs": [],
   "source": [
    "X_Train = np.c_[x_all,y_all]\n",
    "y_Train = np.r_[labels_negative,labels_positive]\n",
    "print(f'X_Train.shape: {X_Train.shape}')\n",
    "print(f'y_Train.shape: {y_Train.shape}')\n",
    "\n",
    "Npoints_test = 5000\n",
    "offset_negative = 5+10*np.random.random((Npoints_test//2,1))\n",
    "offset_positive = 5+10*np.random.random((Npoints_test//2,1))\n",
    "x_negative_test = -20*np.random.random((Npoints_test//2,1)) # Negative class\n",
    "x_positive_test = 20*np.random.random((Npoints_test//2,1))  # Positive class\n",
    "y_negative_test = -(a/b)*x_negative_test-(c/b) - offset_negative\n",
    "y_positive_test = -(a/b)*x_positive_test-(c/b) + offset_positive\n",
    "labels_negative_test = -1*np.ones((Npoints_test//2,1))\n",
    "labels_positive_test = np.ones((Npoints_test//2,1))\n",
    "\n",
    "x_all_test = np.r_[x_negative_test,x_positive_test]\n",
    "y_all_test = np.r_[y_negative_test,y_positive_test]\n",
    "X_Test = np.c_[x_all_test,y_all_test]\n",
    "y_Test = np.r_[labels_negative_test,labels_positive_test]\n",
    "print(f'X_Test.shape: {X_Test.shape}')\n",
    "print(f'y_Test.shape: {y_Test.shape}')\n",
    "\n"
   ]
  },
  {
   "cell_type": "markdown",
   "metadata": {},
   "source": [
    "### WITH INPUT LAYER"
   ]
  },
  {
   "cell_type": "code",
   "execution_count": null,
   "metadata": {},
   "outputs": [],
   "source": [
    "model1 = tf.keras.Sequential([\n",
    "  tf.keras.layers.InputLayer(input_shape=(2,)),\n",
    "  tf.keras.layers.Dense(1,activation='sigmoid')])\n",
    "model1.compile(optimizer='sgd', loss=tf.keras.losses.BinaryCrossentropy())\n",
    "model1.fit(X_Train,y_Train)"
   ]
  },
  {
   "cell_type": "markdown",
   "metadata": {},
   "source": [
    "### WIHTOUT INPUT LAYER"
   ]
  },
  {
   "cell_type": "code",
   "execution_count": null,
   "metadata": {},
   "outputs": [],
   "source": [
    "model1.predict(X_Test)"
   ]
  },
  {
   "cell_type": "code",
   "execution_count": null,
   "metadata": {},
   "outputs": [],
   "source": [
    "model2 = tf.keras.Sequential([  \n",
    "  tf.keras.layers.Dense(1,input_shape=(2,),activation='sigmoid')])\n",
    "model2.compile(optimizer='sgd', loss=tf.keras.losses.BinaryCrossentropy())\n",
    "model2.fit(X_Train,y_Train)"
   ]
  },
  {
   "cell_type": "code",
   "execution_count": null,
   "metadata": {},
   "outputs": [],
   "source": [
    "model2.predict(X_Test)"
   ]
  },
  {
   "cell_type": "code",
   "execution_count": null,
   "metadata": {},
   "outputs": [],
   "source": [
    "model2.summary()"
   ]
  },
  {
   "cell_type": "code",
   "execution_count": null,
   "metadata": {},
   "outputs": [],
   "source": [
    "wts1 = model1.get_weights()\n",
    "wts2 = model2.get_weights()"
   ]
  },
  {
   "cell_type": "code",
   "execution_count": null,
   "metadata": {},
   "outputs": [],
   "source": [
    "a_hat1 = wts1[0][0]\n",
    "b_hat1 = wts1[0][1]\n",
    "c_hat1 = wts1[1]\n",
    "\n",
    "a_hat2 = wts2[0][0]\n",
    "b_hat2 = wts2[0][1]\n",
    "c_hat2 = wts2[1]"
   ]
  },
  {
   "cell_type": "code",
   "execution_count": null,
   "metadata": {},
   "outputs": [],
   "source": [
    "y_all_line_NN1 = -(a_hat1/b_hat1)*x_all-(c_hat1/b_hat1)\n",
    "plt.plot(x_all,y_all_line_NN1)\n",
    "plt.scatter(x_all,y_all)\n",
    "plt.grid()\n",
    "plt.show()"
   ]
  },
  {
   "cell_type": "code",
   "execution_count": null,
   "metadata": {},
   "outputs": [],
   "source": [
    "y_all_line_NN2 = -(a_hat2/b_hat2)*x_all-(c_hat2/b_hat2)\n",
    "plt.plot(x_all,y_all_line_NN2)\n",
    "plt.scatter(x_all,y_all)\n",
    "plt.grid()\n",
    "plt.show()"
   ]
  },
  {
   "cell_type": "code",
   "execution_count": null,
   "metadata": {},
   "outputs": [],
   "source": [
    "print(a_hat1,b_hat1,c_hat1)\n",
    "print(a_hat2,b_hat2,c_hat2)"
   ]
  },
  {
   "cell_type": "code",
   "execution_count": null,
   "metadata": {},
   "outputs": [],
   "source": [
    "plt.plot(x_all,y_all_line_NN1,'-b')\n",
    "plt.plot(x_all,y_all_line_after,'-k')\n",
    "plt.legend(['LogReg','SVM'])\n",
    "plt.grid()\n",
    "plt.show()"
   ]
  },
  {
   "cell_type": "code",
   "execution_count": null,
   "metadata": {},
   "outputs": [],
   "source": []
  }
 ],
 "metadata": {
  "kernelspec": {
   "display_name": "Python 3",
   "language": "python",
   "name": "python3"
  },
  "language_info": {
   "codemirror_mode": {
    "name": "ipython",
    "version": 3
   },
   "file_extension": ".py",
   "mimetype": "text/x-python",
   "name": "python",
   "nbconvert_exporter": "python",
   "pygments_lexer": "ipython3",
   "version": "3.7.4"
  }
 },
 "nbformat": 4,
 "nbformat_minor": 2
}
