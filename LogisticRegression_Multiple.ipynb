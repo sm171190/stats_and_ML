{
 "cells": [
  {
   "cell_type": "code",
   "execution_count": 1,
   "metadata": {},
   "outputs": [],
   "source": [
    "import numpy as np\n",
    "import matplotlib.pyplot as plt\n",
    "%matplotlib inline\n",
    "from sklearn.linear_model import LogisticRegression "
   ]
  },
  {
   "cell_type": "markdown",
   "metadata": {},
   "source": [
    "### Create Data"
   ]
  },
  {
   "cell_type": "code",
   "execution_count": 2,
   "metadata": {},
   "outputs": [
    {
     "name": "stdout",
     "output_type": "stream",
     "text": [
      "Original Paramters (a,b,c) in y=ax+by+c : ([-0.05833125],[-0.26854955],[0.72453665])\n",
      "X.shape for the data: (2000, 3)\n",
      "z.shape for the labels: (2000, 1)\n"
     ]
    }
   ],
   "source": [
    "Npoints = 1000\n",
    "(xstart,xstop) = (0,50)\n",
    "x = np.linspace(xstart,xstop,Npoints).reshape(Npoints,1)\n",
    "y = np.linspace(xstart,xstop,Npoints).reshape(Npoints,1)\n",
    "xCoeff= np.random.randn(1)\n",
    "yCoeff= np.random.randn(1)\n",
    "const = np.random.randn(1)\n",
    "print(f\"Original Paramters (a,b,c) in y=ax+by+c : ({xCoeff},{yCoeff},{const})\")\n",
    "zTrue = xCoeff*x + yCoeff*y + const\n",
    "noiseAmp = 10\n",
    "bias = 0.5\n",
    "zNoisyUpper = zTrue+noiseAmp*np.random.random(Npoints).reshape(Npoints,1)+bias\n",
    "zNoisyLower = zTrue-noiseAmp*np.random.random(Npoints).reshape(Npoints,1)-bias\n",
    "zNoisy = np.concatenate((zNoisyLower,zNoisyUpper),axis=0)\n",
    "X = np.concatenate((x,x),axis=0)\n",
    "Y = np.concatenate((y,y),axis=0)\n",
    "z = np.concatenate((np.zeros((Npoints,1)),np.ones((Npoints,1))),axis=0)\n",
    "X = np.concatenate((X,Y),axis = 1)\n",
    "X = np.concatenate((X,z),axis = 1)\n",
    "print(f\"X.shape for the data: {X.shape}\")\n",
    "print(f\"z.shape for the labels: {z.shape}\")"
   ]
  },
  {
   "cell_type": "code",
   "execution_count": 3,
   "metadata": {},
   "outputs": [],
   "source": [
    "def sigma(z):\n",
    "    '''Computes the sigmoid for a numpy array z\n",
    "    '''        \n",
    "    return 1/(1+np.exp(-z))"
   ]
  },
  {
   "cell_type": "code",
   "execution_count": 4,
   "metadata": {},
   "outputs": [],
   "source": [
    "def computeGradient(X,y,z):\n",
    "    '''Computes the gradient for the cross entropy loss function. X is an nxm numpy array of features, y is the (n,) numPy array of labels.\n",
    "       z =  <theta,X> is an (n,) numPy array. Returns the (m+1,) gradient at the current iteration.\n",
    "    '''\n",
    "    (n,m) = X.shape      \n",
    "    sigma_z = sigma(z)    \n",
    "    estimation_error = sigma_z-y\n",
    "    terms=[]\n",
    "    for i in range(m+1):\n",
    "        if i==0:\n",
    "            v = 1\n",
    "        else:\n",
    "            v = X[:,i-1]\n",
    "        \n",
    "        currentterm = sum(v*sigma_z*(1-sigma_z)*estimation_error)\n",
    "        terms.append(currentterm)        \n",
    "        \n",
    "    return (np.array(terms))/n\n",
    "    \n",
    "    "
   ]
  },
  {
   "cell_type": "code",
   "execution_count": 5,
   "metadata": {},
   "outputs": [
    {
     "name": "stdout",
     "output_type": "stream",
     "text": [
      "(2000, 3)\n",
      "(2000, 1)\n",
      "(2000,)\n",
      "(2000,)\n"
     ]
    }
   ],
   "source": [
    "print(X.shape)\n",
    "print(z.shape)\n",
    "labels = z.reshape(2*Npoints)\n",
    "print(labels.shape)\n",
    "theta_est = np.array([const,xCoeff,yCoeff,1])\n",
    "z_est = theta_est[0] + theta_est[1]*X[:,0]+theta_est[2]*X[:,1]+theta_est[3]*X[:,2]\n",
    "print(z_est.shape)"
   ]
  },
  {
   "cell_type": "code",
   "execution_count": 6,
   "metadata": {},
   "outputs": [],
   "source": [
    "def GradientDescent(X,y,start,step_size,tolerance,Niter):    \n",
    "    ''' Will perform gradient descent on X (nxm), using target y (nx1) . No of parameters in problem = m + 1(bias)\n",
    "    '''    \n",
    "    gradNorm = 10000\n",
    "    i = 0\n",
    "    current_theta_estimate = start\n",
    "    norms = []\n",
    "    n = X.shape[0]            \n",
    "    while i<Niter and gradNorm > tolerance:        \n",
    "        z_estimate = current_theta_estimate[0]+current_theta_estimate[1]*X[:,0] + current_theta_estimate[2]*X[:,1] +  current_theta_estimate[3]*X[:,2]\n",
    "        grad = computeGradient(X,y,z_estimate)\n",
    "        gradNorm = np.linalg.norm(grad)\n",
    "        norms.append(gradNorm)        \n",
    "        current_theta_estimate = current_theta_estimate - step_size*grad\n",
    "        i+=1\n",
    "    plt.plot(np.array(list(range(1,i+1))),norms)\n",
    "    plt.xlabel('Iterations')\n",
    "    plt.ylabel('||gradient||')\n",
    "    plt.grid(True)\n",
    "    plt.title(\"Convergence of gradient descent\")\n",
    "    print(f\"Started at location {start}\")\n",
    "    print(f\"Finished with {i} iterations\")\n",
    "    print(f\"Finished with gradient norm = {gradNorm}\")\n",
    "    print(f\"Finished at location {current_theta_estimate}\")\n",
    "    return current_theta_estimate\n",
    "    "
   ]
  },
  {
   "cell_type": "code",
   "execution_count": 13,
   "metadata": {},
   "outputs": [],
   "source": [
    "def VanillaLogisticRegression(X,y):    \n",
    "    '''Assumes that the input matrix is an nx2 numPy array with n observations and y is an nx1 target vector \n",
    "    '''\n",
    "    (n,m) = X.shape\n",
    "    theta_estimate_start = np.random.rand(m+1)\n",
    "#     theta_estimate_start = np.array([-const,-xCoeff,-yCoeff,1])\n",
    "    learning_rate = 1e-5\n",
    "    err_tolerance = 1e-6\n",
    "    MaxIter = 1000\n",
    "    estimated_coeff = GradientDescent(X,y,theta_estimate_start,learning_rate,err_tolerance,MaxIter)\n",
    "    return estimated_coeff\n",
    "\n",
    "    \n",
    "    \n",
    "    \n",
    "\n",
    "    \n",
    "    "
   ]
  },
  {
   "cell_type": "code",
   "execution_count": null,
   "metadata": {},
   "outputs": [],
   "source": [
    "z=z.reshape(2000,)\n",
    "theta_est = VanillaLogisticRegression(X,z)\n",
    "print(f\"theta estimated [ theta0,theta1, theta2, theta3]: {theta_est}\")\n",
    "const_est = -theta_est[0]/theta_est[3]\n",
    "xCoeff_est  = theta_est[1]/theta_est[3]\n",
    "yCoeff_est = -theta_est[2]/theta_est[3]\n",
    "\n",
    "# y_decision_boundary = m_est*X[:,0] -c_est\n",
    "print(f\"x coefficient estimated : {xCoeff_est}\")\n",
    "print(f\"Original x coefficient : {xCoeff}\")\n",
    "print(f\"y coefficient estimated : {yCoeff_est}\")\n",
    "print(f\"Original y coefficient : {yCoeff}\")\n",
    "print(f\"Intercept estimated : {const_est}\")\n",
    "print(f\"Original intercept : {const}\")\n",
    "# y_pred_algo = list(map(lambda q: 0 if q<0 else 1,X[:,1]-y_decision_boundary))\n",
    "# print(y_pred_algo[Npoints-5:Npoints+6])\n",
    "# sumErr = sum(abs(y_pred_algo-y))\n",
    "# print(f\"Sum error: {sumErr}\")\n",
    "# errRate = sumErr/(2*Npoints)\n",
    "# print(f\"Error probability : {errRate}\")\n"
   ]
  },
  {
   "cell_type": "code",
   "execution_count": null,
   "metadata": {},
   "outputs": [],
   "source": []
  },
  {
   "cell_type": "code",
   "execution_count": null,
   "metadata": {},
   "outputs": [],
   "source": []
  }
 ],
 "metadata": {
  "kernelspec": {
   "display_name": "Python 3",
   "language": "python",
   "name": "python3"
  },
  "language_info": {
   "codemirror_mode": {
    "name": "ipython",
    "version": 3
   },
   "file_extension": ".py",
   "mimetype": "text/x-python",
   "name": "python",
   "nbconvert_exporter": "python",
   "pygments_lexer": "ipython3",
   "version": "3.7.4"
  }
 },
 "nbformat": 4,
 "nbformat_minor": 2
}
