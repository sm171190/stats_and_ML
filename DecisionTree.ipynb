{
 "cells": [
  {
   "cell_type": "code",
   "execution_count": null,
   "metadata": {},
   "outputs": [],
   "source": [
    "import numpy as np\n",
    "import pandas as pd"
   ]
  },
  {
   "cell_type": "markdown",
   "metadata": {},
   "source": [
    "### CREATE DATA"
   ]
  },
  {
   "cell_type": "code",
   "execution_count": null,
   "metadata": {},
   "outputs": [],
   "source": [
    "data_list = [['Sunny','Hot','High','Weak','No'],['Sunny','Hot','High','Strong','No'],['Overcast','Hot','High','Weak','Yes'],\n",
    "            ['Rain','Mild','High','Weak','Yes'],['Rain','Cool','Normal','Weak','Yes'],['Rain','Cool','Normal','Strong','No'],\n",
    "             ['Overcast','Cool','Normal','Strong','Yes'],['Sunny','Mild','High','Weak','No'],['Sunny','Cool','Normal','Weak','Yes'],\n",
    "             ['Rain','Mild','Normal','Weak','Yes'],['Sunny','Mild','Normal','Strong','Yes'],['Overcast','Mild','High','Strong','Yes'],\n",
    "             ['Overcast','Hot','Normal','Weak','Yes'],['Rain','Mild','High','Strong','No']]\n",
    "\n",
    "columnNames = ['Outlook','Temp','Humidity','Wind','Play']\n",
    "featureSpace_0 = ['sunny','overcast','rain']\n",
    "featureSpace_1 = ['hot','mild','cool']\n",
    "featureSpace_2 = ['normal','high']\n",
    "featureSpace_3 = ['weak','strong']\n",
    "featureSpace = [featureSpace_0,featureSpace_1,featureSpace_2,featureSpace_3]\n",
    "data_arr = np.array(data_list)\n",
    "func_Play = lambda val: 0 if val=='No' else 1\n",
    "def func_Outlook(val) :\n",
    "    if val.lower()=='sunny':\n",
    "        return 0\n",
    "    elif val.lower() =='overcast' :\n",
    "        return 1\n",
    "    else:\n",
    "        return 2\n",
    "\n",
    "def func_Temp(val) :\n",
    "    if val.lower()=='hot':\n",
    "        return 0\n",
    "    elif val.lower() =='mild' :\n",
    "        return 1\n",
    "    else:\n",
    "        return 2\n",
    "\n",
    "def func_Wind(val) :\n",
    "    if val.lower()=='weak':\n",
    "        return 0\n",
    "    else:\n",
    "        return 1\n",
    "\n",
    "def func_Humidity(val) :\n",
    "    if val.lower()=='normal':\n",
    "        return 0\n",
    "    else:\n",
    "        return 1\n",
    "\n",
    "data_df = pd.DataFrame(data=data_arr,columns=columnNames) \n",
    "data_df['Play'] = data_df['Play'].apply(func_Play)\n",
    "data_df['Outlook']= data_df['Outlook'].apply(func_Outlook)\n",
    "data_df['Temp'] = data_df['Temp'].apply(func_Temp)\n",
    "data_df['Wind'] = data_df['Wind'].apply(func_Wind)\n",
    "data_df['Humidity'] = data_df['Humidity'].apply(func_Humidity)\n",
    "data = data_df.to_numpy()\n",
    "\n",
    "Nfeatures = 4\n",
    "MaxFeatureSize = 3\n",
    "treeChildren = -1*np.ones((Nfeatures,MaxFeatureSize),dtype=int)"
   ]
  },
  {
   "cell_type": "code",
   "execution_count": null,
   "metadata": {},
   "outputs": [],
   "source": [
    "def getEntropy(data,Y,X=None,Xgiven=None):\n",
    "    ''' \n",
    "    Calculates the conditional entropyies of the form H(Y), H(Y|X), H(Y|X1=x1,...,Xj=xj) and H(Y|Xi=xi,Xj=xj,X)\n",
    "    INPUT: data : mxn numpy array of data\n",
    "            Y: Index of the target vairable. 0<=Y<n\n",
    "            X: The conditional vairable. 0<=X<n\n",
    "            Xgiven = [(X1,x1),(X2,x2),....,(Xj,xj)]\n",
    "    OUTPUT: H(Y|Xi=xi,...,Xj=xj,X)\n",
    "    '''\n",
    "    Ndata = data.shape[0]\n",
    "    Yvalues = np.unique(data[:,Y])\n",
    "    N_Yvalues = Yvalues.size\n",
    "    \n",
    "    if X==None and Xgiven==None: # Calculate the self-entropy H(Y)\n",
    "        N=Ndata\n",
    "        pYgivenX = np.zeros(N_Yvalues)\n",
    "        for i in range(N_Yvalues):\n",
    "            pYgivenX[i] = ((data[:,Y]==Yvalues[i]).sum())/N       \n",
    "        HY = -pYgivenX.dot(np.log2(pYgivenX))\n",
    "    elif Xgiven == None and X!=None: # Calculate simple conditional-entropy, H(Y|X)\n",
    "        Xvalues = np.unique(data[:,X])\n",
    "        N_Xvalues = Xvalues.size\n",
    "        HY_givenX = np.zeros(N_Xvalues)\n",
    "        pX = np.zeros(N_Xvalues)\n",
    "\n",
    "        for i in range(N_Xvalues):            \n",
    "            data_givenX = data[(data[:,X]==Xvalues[i])]\n",
    "            pX[i] = ((data[:,X]==Xvalues[i]).sum())/Ndata\n",
    "            Nx = data_givenX.shape[0]\n",
    "            pYgivenX = np.zeros(N_Yvalues)\n",
    "            for j in range(N_Yvalues):\n",
    "                pYgivenX[j] = ((data_givenX[:,Y]==Yvalues[j]).sum())/Nx\n",
    "            \n",
    "            with np.errstate(divide='ignore'):\n",
    "                logProb = np.log2(pYgivenX)\n",
    "            logProb[np.isneginf(logProb)]=0\n",
    "            HY_givenX[i] = -pYgivenX.dot(logProb)\n",
    "        \n",
    "        HY = pX.dot(HY_givenX)\n",
    "    \n",
    "    elif Xgiven!=None and X==None:# Calculate the conditional-entropy given some observations H(Y|X1=x1,...Xn=x)        \n",
    "        HY_givenX = 0        \n",
    "        data_filtered = data\n",
    "        for x_given in Xgiven:\n",
    "            data_temp = data_filtered[(data_filtered[:,x_given[0]]==x_given[1])]    \n",
    "            data_filtered = data_temp        \n",
    "        Ndata = data_filtered.shape[0]                                \n",
    "        pYgivenX = np.zeros(N_Yvalues)\n",
    "        \n",
    "        for i in range(N_Yvalues):\n",
    "            pYgivenX[i] = ((data_filtered[:,Y]==Yvalues[i]).sum())/Ndata\n",
    "        \n",
    "        with np.errstate(divide='ignore'):\n",
    "            logProb = np.log2(pYgivenX)\n",
    "        logProb[np.isneginf(logProb)]=0\n",
    "        HY_givenX = -pYgivenX.dot(logProb)\n",
    "        \n",
    "        HY = HY_givenX\n",
    "                \n",
    "    \n",
    "    else:# Calculate the conditional-entropy H(Y|Xi=xi,...,X)        \n",
    "        Xvalues = np.unique(data[:,X])\n",
    "        N_Xvalues = Xvalues.size\n",
    "        HY_givenX = np.zeros(N_Xvalues)\n",
    "        pX = np.zeros(N_Xvalues)\n",
    "\n",
    "        data_filtered = data\n",
    "        for x_given in Xgiven:\n",
    "            data_temp = data_filtered[(data_filtered[:,x_given[0]]==x_given[1])]    \n",
    "            data_filtered = data_temp\n",
    "        \n",
    "        Ndata = data_filtered.shape[0]        \n",
    "        for i in range(N_Xvalues):                          \n",
    "            data_givenX = data_filtered[(data_filtered[:,X]==Xvalues[i])]\n",
    "            pX[i] = ((data_filtered[:,X]==Xvalues[i]).sum())/Ndata\n",
    "            Nx = data_givenX.shape[0]            \n",
    "            pYgivenX = np.zeros(N_Yvalues)\n",
    "            for j in range(N_Yvalues):                \n",
    "                if Nx == 0 :\n",
    "                    pYgivenX[j]=0\n",
    "                else:\n",
    "                    pYgivenX[j] = ((data_givenX[:,Y]==Yvalues[j]).sum())/Nx\n",
    "            \n",
    "            with np.errstate(divide='ignore'):\n",
    "                logProb = np.log2(pYgivenX)\n",
    "            logProb[np.isneginf(logProb)]=0\n",
    "            HY_givenX[i] = -pYgivenX.dot(logProb)\n",
    "        \n",
    "        HY = pX.dot(HY_givenX)\n",
    "        \n",
    "        \n",
    "                \n",
    "    return HY"
   ]
  },
  {
   "cell_type": "code",
   "execution_count": null,
   "metadata": {},
   "outputs": [],
   "source": [
    "def findRoot(data,labelId,cols):\n",
    "    '''\n",
    "    Finds the root feature for the decision tree\n",
    "    INPUT:  data - mxn numpy array of data , n = nFeatures + 1 (target)\n",
    "            labelId - the id of the target/label\n",
    "            cols - The names of all the n columns\n",
    "    OUTPUT: root- the id of the root feature\n",
    "    '''\n",
    "    HY = getEntropy(data,Y=labelId)\n",
    "    print('CONDITIONAL ENTROPIES: ')\n",
    "    print(f'H(Y): {HY}')\n",
    "    Nfeatures = len(cols)-1\n",
    "    HY_Given_Feature = np.zeros(Nfeatures)\n",
    "    for i in range(Nfeatures):\n",
    "        HY_Given_Feature[i] = getEntropy(data,Y=labelId,X=i)\n",
    "        print(f'H(Y|{columnNames[i]}) : {HY_Given_Feature[i]}')\n",
    "    \n",
    "    print('\\nINFORMATION GAINS: ')\n",
    "\n",
    "    for i in range(Nfeatures):    \n",
    "        print(f'I(Y;{cols[i]}) : {HY- HY_Given_Feature[i]}')\n",
    "\n",
    "    root = np.argmin(HY_Given_Feature)\n",
    "    print(f'root : {root}')\n",
    "    print(f'\\nRoot feature: {cols[root]}')\n",
    "    \n",
    "    return root"
   ]
  },
  {
   "cell_type": "code",
   "execution_count": null,
   "metadata": {},
   "outputs": [],
   "source": [
    "def findNextNode(data,currentRoot,featureSpace,labelId,treeChildren):\n",
    "#     currentRoot = root\n",
    "    Nfeatures = len(featureSpace)\n",
    "    remainingFeatures = list(range(Nfeatures))\n",
    "    remainingFeatures.remove(currentRoot)\n",
    "    for i in range(len(featureSpace[currentRoot])):\n",
    "        print(f'\\nFINDING THE NEXT FEATURE TO CHECK AFTER {columnNames[currentRoot]}={featureSpace[currentRoot][i]}')\n",
    "        currentRootValues = featureSpace[currentRoot]\n",
    "        NcurrentFatures = len(currentRootValues)\n",
    "        given=[(currentRoot,i)]\n",
    "        HY = getEntropy(data,Y=labelId,X=None,Xgiven=given)\n",
    "        M=100\n",
    "        HY_Given_Feature = M*np.ones(len(remainingFeatures))\n",
    "        print('CONDITIONAL ENTROPIES: ')\n",
    "        print(f'H(Y|{columnNames[root]} = {currentRootValues[i]}): {HY}')\n",
    "        if HY>0:\n",
    "            for f in range(len(remainingFeatures)): \n",
    "                featureId = remainingFeatures[f]\n",
    "                HY_Given_Feature[f] = getEntropy(data,Y=4,X=featureId,Xgiven=given)\n",
    "                print(f'H(Y|{columnNames[currentRoot]} = {currentRootValues[i]},{columnNames[featureId]}) : {HY_Given_Feature[f]}')    \n",
    "    \n",
    "            print('INFORMATION GAINS: ')\n",
    "            for f in range(len(remainingFeatures)): \n",
    "                featureId = remainingFeatures[f]\n",
    "                print(f'I(Y;{columnNames[featureId]} = {currentRootValues[i]},{columnNames[featureId]}) : {HY - HY_Given_Feature[f]}')\n",
    "        \n",
    "            nextRoot = remainingFeatures[np.argmin(HY_Given_Feature)]\n",
    "            print(f'Next Node after {columnNames[currentRoot]}= {featureSpace[currentRoot][i]}: {columnNames[nextRoot]} ')\n",
    "            treeChildren[currentRoot,i] = nextRoot\n",
    "    \n",
    "        elif HY==0:\n",
    "            m = np.argwhere(data[:,currentRoot]==i)[0,0]\n",
    "            res = data[m,4]\n",
    "            print(f'Leaf node! Decision: {res}')\n",
    "            if res == 1:\n",
    "                treeChildren[currentRoot,i] = 111\n",
    "            else:\n",
    "                treeChildren[currentRoot,i] = -111\n",
    "    \n",
    "    return treeChildren     \n"
   ]
  },
  {
   "cell_type": "code",
   "execution_count": null,
   "metadata": {},
   "outputs": [],
   "source": [
    "root = findRoot(data,labelId=4,cols=columnNames)"
   ]
  },
  {
   "cell_type": "code",
   "execution_count": null,
   "metadata": {},
   "outputs": [],
   "source": [
    "treeChildren = findNextNode(data=data,currentRoot=root,featureSpace=featureSpace,labelId=4,treeChildren=treeChildren)"
   ]
  },
  {
   "cell_type": "code",
   "execution_count": null,
   "metadata": {},
   "outputs": [],
   "source": [
    "rowsDone = np.zeros(Nfeatures)\n",
    "rowsDone[root] = 1\n",
    "rootRow = treeChildren[root,:]\n",
    "for featureValue in range(len(rootRow)):    \n",
    "    data_filtered = data[(data[:,root]==featureValue)]\n",
    "    cRoot = rootRow[featureValue]        \n",
    "    if cRoot not in [-111,111,-1]:\n",
    "        treeChildren = findNextNode(data=data_filtered,currentRoot=cRoot,featureSpace=featureSpace,labelId=4,treeChildren=treeChildren)\n",
    "        rowsDone[cRoot] = 1\n",
    "        print(rowsDone)\n",
    "    \n",
    "    "
   ]
  },
  {
   "cell_type": "code",
   "execution_count": null,
   "metadata": {},
   "outputs": [],
   "source": [
    "treeChildren"
   ]
  },
  {
   "cell_type": "code",
   "execution_count": null,
   "metadata": {},
   "outputs": [],
   "source": [
    "def predict(x,root,children):\n",
    "    pred = None\n",
    "    while pred!=111 and pred!= -111:\n",
    "        res = int(children[root,x[root]])\n",
    "        if res == 111 or res == -111:\n",
    "            pred = res\n",
    "        else:\n",
    "            root = res\n",
    "    return pred"
   ]
  },
  {
   "cell_type": "code",
   "execution_count": null,
   "metadata": {},
   "outputs": [],
   "source": [
    "root = 0\n",
    "y_pred = np.zeros(data.shape[0])\n",
    "for m in range(data.shape[0]):\n",
    "    instance = data[m,:]\n",
    "    pred = predict(instance,root,treeChildren)\n",
    "    if pred == 111:\n",
    "        y_pred[m]=1\n",
    "    else:\n",
    "        y_pred[m]=0\n",
    "\n",
    "    "
   ]
  },
  {
   "cell_type": "code",
   "execution_count": null,
   "metadata": {},
   "outputs": [],
   "source": [
    "y_pred"
   ]
  },
  {
   "cell_type": "code",
   "execution_count": null,
   "metadata": {},
   "outputs": [],
   "source": [
    "data[:,4]"
   ]
  },
  {
   "cell_type": "code",
   "execution_count": null,
   "metadata": {},
   "outputs": [],
   "source": [
    "error_rate = (y_pred-data[:,4]).sum()/data.shape[0]"
   ]
  },
  {
   "cell_type": "code",
   "execution_count": null,
   "metadata": {},
   "outputs": [],
   "source": [
    "error_rate"
   ]
  },
  {
   "cell_type": "code",
   "execution_count": null,
   "metadata": {},
   "outputs": [],
   "source": [
    "import pandas as pd\n",
    "csv_path = \"C://Users/saurmisr/Downloads/titanic.csv\"\n",
    "data = pd.read_csv(csv_path)"
   ]
  },
  {
   "cell_type": "code",
   "execution_count": null,
   "metadata": {},
   "outputs": [],
   "source": [
    "yTrain = data['Survived'].to_numpy()\n",
    "PclassCol = data['Pclass'].apply(lambda X: 0 if X==1 else 1).to_numpy()\n",
    "siblings_or_spousesCol = data['Siblings/Spouses Aboard'].apply(lambda X: 1 if X>0 else 0).to_numpy()\n",
    "parents_or_childrenCol = data['Parents/Children Aboard'].apply(lambda X: 1 if X>0 else 0).to_numpy()\n",
    "sexCol = data['Sex'].apply(lambda X: 1 if X=='male' else 0).to_numpy()\n",
    "XTrainFeatureSet1 = np.column_stack((PclassCol,siblings_or_spousesCol,parents_or_childrenCol,sexCol))\n",
    "(m,n) = XTrainFeatureSet1.shape\n",
    "print(f'(m,n): {(m,n)}')"
   ]
  },
  {
   "cell_type": "code",
   "execution_count": null,
   "metadata": {},
   "outputs": [],
   "source": [
    "data = np.column_stack((XTrainFeatureSet1,yTrain))\n",
    "columnNames = ['PClass','Siblings/Spouse','Parents/Children','Sex','Survived']\n",
    "featureSpace_0 = ['0','1']\n",
    "featureSpace_1 = ['None','>0']\n",
    "featureSpace_2 = ['None','>0']\n",
    "featureSpace_3 = ['Male','Female']\n",
    "featureSpace = [featureSpace_0,featureSpace_1,featureSpace_2,featureSpace_3]\n",
    "\n",
    "Nfeatures = 4\n",
    "MaxFeatureSize = 2\n",
    "treeChildren = -1*np.ones((Nfeatures,MaxFeatureSize),dtype=int)"
   ]
  },
  {
   "cell_type": "code",
   "execution_count": null,
   "metadata": {},
   "outputs": [],
   "source": [
    "root = findRoot(data,labelId=4,cols=columnNames)"
   ]
  },
  {
   "cell_type": "code",
   "execution_count": null,
   "metadata": {},
   "outputs": [],
   "source": [
    "treeChildren = findNextNode(data=data,currentRoot=root,featureSpace=featureSpace,labelId=4,treeChildren=treeChildren)"
   ]
  },
  {
   "cell_type": "code",
   "execution_count": null,
   "metadata": {},
   "outputs": [],
   "source": [
    "treeChildren"
   ]
  },
  {
   "cell_type": "code",
   "execution_count": null,
   "metadata": {},
   "outputs": [],
   "source": [
    "rowsDone = np.zeros(Nfeatures)\n",
    "rowsDone[root] = 1\n",
    "rootRow = treeChildren[root,:]\n",
    "for featureValue in range(len(rootRow)):    \n",
    "    data_filtered = data[(data[:,root]==featureValue)]\n",
    "    cRoot = rootRow[featureValue]        \n",
    "    if cRoot not in [-111,111,-1]:\n",
    "        treeChildren = findNextNode(data=data_filtered,currentRoot=cRoot,featureSpace=featureSpace,labelId=4,treeChildren=treeChildren)\n",
    "        rowsDone[cRoot] = 1\n",
    "        print(rowsDone)\n"
   ]
  },
  {
   "cell_type": "code",
   "execution_count": null,
   "metadata": {},
   "outputs": [],
   "source": [
    "treeChildren"
   ]
  },
  {
   "cell_type": "code",
   "execution_count": null,
   "metadata": {},
   "outputs": [],
   "source": [
    "root = 0\n",
    "rowsDone[root] = 1\n",
    "rootRow = treeChildren[root,:]\n",
    "for featureValue in range(len(rootRow)):    \n",
    "    data_filtered = data[(data[:,root]==featureValue)]\n",
    "    cRoot = rootRow[featureValue]        \n",
    "    if cRoot not in [-111,111,-1]:\n",
    "        treeChildren = findNextNode(data=data_filtered,currentRoot=cRoot,featureSpace=featureSpace,labelId=4,treeChildren=treeChildren)\n",
    "        rowsDone[cRoot] = 1\n",
    "        print(rowsDone)\n"
   ]
  },
  {
   "cell_type": "code",
   "execution_count": null,
   "metadata": {},
   "outputs": [],
   "source": [
    "treeChildren"
   ]
  },
  {
   "cell_type": "code",
   "execution_count": null,
   "metadata": {},
   "outputs": [],
   "source": [
    "root = 0\n",
    "y_pred = np.zeros(data.shape[0])\n",
    "for m in range(data.shape[0]):\n",
    "    print(m)\n",
    "    instance = data[m,:]\n",
    "    pred = predict(instance,root,treeChildren)\n",
    "    if pred == 111:\n",
    "        y_pred[m]=1\n",
    "    else:\n",
    "        y_pred[m]=0\n"
   ]
  },
  {
   "cell_type": "code",
   "execution_count": null,
   "metadata": {},
   "outputs": [],
   "source": [
    "error_rate = np.abs(y_pred-data[:,4]).sum()/data.shape[0]\n",
    "error_rate"
   ]
  },
  {
   "cell_type": "code",
   "execution_count": 85,
   "metadata": {},
   "outputs": [
    {
     "data": {
      "text/plain": [
       "array([[1, 2],\n",
       "       [3, 3],\n",
       "       [3, 3],\n",
       "       [0, 0]])"
      ]
     },
     "execution_count": 85,
     "metadata": {},
     "output_type": "execute_result"
    }
   ],
   "source": [
    "treeChildren"
   ]
  },
  {
   "cell_type": "code",
   "execution_count": null,
   "metadata": {},
   "outputs": [],
   "source": [
    "root = 3\n",
    "m=0\n",
    "instance = data[m,:]\n",
    "pred = predict(instance,root,treeChildren)"
   ]
  },
  {
   "cell_type": "code",
   "execution_count": null,
   "metadata": {},
   "outputs": [],
   "source": []
  }
 ],
 "metadata": {
  "kernelspec": {
   "display_name": "Python 3",
   "language": "python",
   "name": "python3"
  },
  "language_info": {
   "codemirror_mode": {
    "name": "ipython",
    "version": 3
   },
   "file_extension": ".py",
   "mimetype": "text/x-python",
   "name": "python",
   "nbconvert_exporter": "python",
   "pygments_lexer": "ipython3",
   "version": "3.7.4"
  }
 },
 "nbformat": 4,
 "nbformat_minor": 2
}
