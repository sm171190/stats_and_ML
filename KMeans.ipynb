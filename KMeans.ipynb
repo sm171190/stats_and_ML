{
 "cells": [
  {
   "cell_type": "code",
   "execution_count": null,
   "metadata": {},
   "outputs": [],
   "source": [
    "import numpy as np\n",
    "import matplotlib.pyplot as plt"
   ]
  },
  {
   "cell_type": "code",
   "execution_count": null,
   "metadata": {},
   "outputs": [],
   "source": [
    "Npoints = 1000\n",
    "Nclusters = 4\n",
    "Npoints_per_cluster = Npoints//Nclusters\n",
    "(C1_mean_x,C1_mean_y) = (5,5)\n",
    "(C2_mean_x,C2_mean_y) = (-5,5)\n",
    "(C3_mean_x,C3_mean_y) = (-5,-5)\n",
    "(C4_mean_x,C4_mean_y) = (5,-5)\n",
    "C1_max_radius = 3\n",
    "C2_max_radius = 3\n",
    "C3_max_radius = 3\n",
    "C4_max_radius = 3\n",
    "clusterMeans = [(C1_mean_x,C1_mean_y),(C2_mean_x,C2_mean_y),(C3_mean_x,C3_mean_y),(C4_mean_x,C4_mean_y)]\n",
    "clusterMaxRadius = [C1_max_radius,C2_max_radius,C3_max_radius,C4_max_radius]\n",
    "\n",
    "for clusterNo in range(Nclusters):\n",
    "    cluster_rad = clusterMaxRadius[clusterNo]*np.random.rand(Npoints_per_cluster,1)\n",
    "    cluster_theta = 2*np.pi*np.random.rand(Npoints_per_cluster,1)\n",
    "    cluster_mean = clusterMeans[clusterNo]\n",
    "    cluster_x = cluster_mean[0] + (cluster_rad*np.cos(C1_theta))\n",
    "    cluster_y = cluster_mean[1] + (cluster_rad*np.sin(C1_theta))\n",
    "    if clusterNo>0:\n",
    "        X = np.r_[X,cluster_x]\n",
    "        Y = np.r_[Y,cluster_y]\n",
    "    else:\n",
    "        X = cluster_x\n",
    "        Y = cluster_y\n",
    "\n",
    "plt.scatter(X,Y)\n",
    "plt.grid()\n",
    "plt.title('Initial clusters')\n",
    "plt.show()\n",
    "\n"
   ]
  },
  {
   "cell_type": "code",
   "execution_count": null,
   "metadata": {},
   "outputs": [],
   "source": [
    "def update_cluster_estimates(X,Y,Nclusters,current_cluster_means_estimate):    \n",
    "    Npoints = len(X)    \n",
    "    clusters_estimate = np.zeros((Npoints,2,Nclusters))\n",
    "    current_cluster_assignments = [0]*Npoints\n",
    "    nextEntryId = [0]*Nclusters\n",
    "\n",
    "    for n in range(Npoints):\n",
    "        current_point = (X[n],Y[n])\n",
    "        assignToClusterNo = findBestCluster(current_point,current_cluster_means_estimate)        \n",
    "        id = nextEntryId[assignToClusterNo]\n",
    "        nextEntryId[assignToClusterNo] +=1    \n",
    "        current_cluster_assignments[n] = assignToClusterNo\n",
    "        clusters_estimate[id,:,assignToClusterNo] = np.array(current_point).reshape(1,2)\n",
    "    \n",
    "    return clusters_estimate,current_cluster_assignments\n"
   ]
  },
  {
   "cell_type": "code",
   "execution_count": null,
   "metadata": {},
   "outputs": [],
   "source": [
    "def findBestCluster(p,clusterMeans):\n",
    "    nClusters = len(clusterMeans)\n",
    "    currentMinDist = 1e9\n",
    "    currentBestCluster = -1\n",
    "    for i in range(nClusters):        \n",
    "        currentClusterMean = clusterMeans[i]\n",
    "        distFromCluster_i = (p[0]-currentClusterMean[0])**2 + (p[1]-currentClusterMean[1])**2\n",
    "        if distFromCluster_i<currentMinDist:\n",
    "            currentMinDist = distFromCluster_i\n",
    "            currentBestCluster = i\n",
    "    \n",
    "    return currentBestCluster                "
   ]
  },
  {
   "cell_type": "code",
   "execution_count": null,
   "metadata": {},
   "outputs": [],
   "source": [
    "def update_cluster_means(cluster_estimates):\n",
    "    Nclusters = cluster_estimates.shape[2]\n",
    "    updated_cluster_means_list=[]\n",
    "    X = cluster_estimates[:,0]\n",
    "    Y = cluster_estimates[:,1]\n",
    "    X_mean = X.mean(axis=0).reshape(Nclusters,1)\n",
    "    Y_mean = Y.mean(axis=0).reshape(Nclusters,1)\n",
    "    updated_cluster_means = np.c_[X_mean,Y_mean]\n",
    "    for c in range(Nclusters):\n",
    "        updated_cluster_means_list.append((X_mean[c,0],Y_mean[c,0]))\n",
    "        \n",
    "    return updated_cluster_means_list"
   ]
  },
  {
   "cell_type": "code",
   "execution_count": null,
   "metadata": {},
   "outputs": [],
   "source": [
    "def getNchanges(last_cluster_assignment,current_cluster_assignment):\n",
    "    Npoints = len(last_cluster_assignment)\n",
    "    nChanges = 0\n",
    "    for i in range(Npoints):\n",
    "        if last_cluster_assignment[i]!=current_cluster_assignment[i]:\n",
    "            nChanges+=1\n",
    "    return nChanges"
   ]
  },
  {
   "cell_type": "code",
   "execution_count": null,
   "metadata": {},
   "outputs": [],
   "source": [
    "def showClusters(clusters):\n",
    "    Nclusters = clusters.shape[2]\n",
    "    for clusterNo in range(Nclusters):        \n",
    "        cluster_x = updated_clusters[:,0,clusterNo]\n",
    "        cluster_y = updated_clusters[:,1,clusterNo]\n",
    "        if clusterNo>0:\n",
    "            X_estimate = np.r_[X_estimate,cluster_x]\n",
    "            Y_estimate = np.r_[Y_estimate,cluster_y]\n",
    "        else:\n",
    "            X_estimate = cluster_x\n",
    "            Y_estimate = cluster_y\n",
    "\n",
    "    plt.scatter(X_estimate,Y_estimate)\n",
    "    plt.grid()\n",
    "    plt.title('Estimates Clusters')\n",
    "    plt.show()\n"
   ]
  },
  {
   "cell_type": "code",
   "execution_count": null,
   "metadata": {},
   "outputs": [],
   "source": [
    "Nchanges = 1e2\n",
    "iterationNo = 1\n",
    "previous_cluster_assinments = []\n",
    "# previous_means = clusterMeans\n",
    "previous_means = [(0,1),(0,-1),(-1,-1),(1,-1)]\n",
    "print(previous_means)\n",
    "for k in range(Nclusters):\n",
    "    start = k*Npoints_per_cluster\n",
    "    end = (k+1)*Npoints_per_cluster\n",
    "    assignValue = k\n",
    "    for n in range(start,end):\n",
    "        previous_cluster_assinments.append(assignValue)\n",
    "\n",
    "while Nchanges>5:    \n",
    "    (updated_clusters,updated_cluster_assignments) = update_cluster_estimates(X,Y,4,previous_means)    \n",
    "    Nchanges = getNchanges(previous_cluster_assinments,updated_cluster_assignments)    \n",
    "    print(f\"Iteration {iterationNo} : Nchanges: {Nchanges}\")\n",
    "    updated_means = update_cluster_means(updated_clusters)\n",
    "    print(f\"Updated means: {updated_means}\")\n",
    "    previous_cluster_assinments = updated_cluster_assignments\n",
    "    previous_means = updated_means\n",
    "    \n",
    "    \n",
    "showClusters(updated_clusters)"
   ]
  },
  {
   "cell_type": "code",
   "execution_count": null,
   "metadata": {},
   "outputs": [],
   "source": []
  }
 ],
 "metadata": {
  "kernelspec": {
   "display_name": "Python 3",
   "language": "python",
   "name": "python3"
  },
  "language_info": {
   "codemirror_mode": {
    "name": "ipython",
    "version": 3
   },
   "file_extension": ".py",
   "mimetype": "text/x-python",
   "name": "python",
   "nbconvert_exporter": "python",
   "pygments_lexer": "ipython3",
   "version": "3.7.4"
  }
 },
 "nbformat": 4,
 "nbformat_minor": 2
}
