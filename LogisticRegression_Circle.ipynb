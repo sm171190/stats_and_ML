{
 "cells": [
  {
   "cell_type": "code",
   "execution_count": 3,
   "metadata": {},
   "outputs": [],
   "source": [
    "import numpy as np\n",
    "import matplotlib.pyplot as plt\n",
    "%matplotlib inline\n",
    "from sklearn.linear_model import LogisticRegression "
   ]
  },
  {
   "cell_type": "markdown",
   "metadata": {},
   "source": [
    "### Create Data"
   ]
  },
  {
   "cell_type": "code",
   "execution_count": 10,
   "metadata": {},
   "outputs": [
    {
     "data": {
      "image/png": "[encoded data removed]",
      "text/plain": [
       "<Figure size 432x288 with 1 Axes>"
      ]
     },
     "metadata": {
      "needs_background": "light"
     },
     "output_type": "display_data"
    },
    {
     "name": "stdout",
     "output_type": "stream",
     "text": [
      "X.shape for the data: (2000, 2)\n",
      "y.shape for the labels: (2000, 1)\n"
     ]
    }
   ],
   "source": [
    "innerRadiusTrue = 1\n",
    "bias = 0.5\n",
    "outerRadiusTrue = innerRadiusTrue+bias\n",
    "Npoints = 1000\n",
    "angles = 2*np.pi*np.random.random(Npoints)\n",
    "xInner = innerRadiusTrue*np.cos(angles).reshape((Npoints,1))\n",
    "yInner = innerRadiusTrue*np.sin(angles).reshape((Npoints,1))\n",
    "plt.scatter(xInner,yInner,label=\"Class 0\")\n",
    "angles = 2*np.pi*np.random.random(Npoints) #Random angles in [0,2pi]\n",
    "xOuter = outerRadiusTrue*np.cos(angles).reshape((Npoints,1))\n",
    "yOuter = outerRadiusTrue*np.sin(angles).reshape((Npoints,1))\n",
    "plt.scatter(xOuter,yOuter,label=\"Class 1\")\n",
    "plt.xlabel('x')\n",
    "plt.ylabel('y')\n",
    "plt.title(\"Original Data\")\n",
    "plt.legend()\n",
    "plt.show()\n",
    "xInnerSq = xInner**2\n",
    "xOuterSq = xOuter**2\n",
    "Xinner = np.concatenate((xInnerSq,yInner),axis=1)\n",
    "Xouter = np.concatenate((xOuter,yOuter),axis=1)\n",
    "X = np.concatenate((Xinner,Xouter),axis=0)\n",
    "print(f\"X.shape for the data: {X.shape}\")\n",
    "y = np.concatenate((np.zeros((Npoints,1)),np.ones((Npoints,1))),axis=0)\n",
    "print(f\"y.shape for the labels: {y.shape}\")"
   ]
  },
  {
   "cell_type": "code",
   "execution_count": 5,
   "metadata": {},
   "outputs": [],
   "source": [
    "def sigma(z):\n",
    "    '''Computes the sigmoid for a numpy array z\n",
    "    '''\n",
    "    return 1/(1+np.exp(-z))"
   ]
  },
  {
   "cell_type": "code",
   "execution_count": 6,
   "metadata": {},
   "outputs": [],
   "source": [
    "def computeGradientNonLinear(x,y,z):\n",
    "    '''Computes the gradient for the cross entropy loss function. x,y are (n,) numPy arrays, signifying the 2 features.\n",
    "       z =  theta0+theta1x+theta2y is an (n,) numPy array. Returns the (3,) gradient at the current iteration.\n",
    "    '''\n",
    "    n = x.shape[0]\n",
    "    sigma_z = sigma(z)\n",
    "#     print(f\"sigma_z: {sigma_z}\")\n",
    "#     print(f\"sigma_z.shape: {sigma_z.shape}\")\n",
    "#     estimation_error = (y/sigma_z)-((1-y)/(1-sigma_z))\n",
    "    estimation_error = sigma_z-y\n",
    "    term1 = sum(sigma_z*(1-sigma_z)*estimation_error)\n",
    "    term2 = sum(x*sigma_z*(1-sigma_z)*estimation_error)\n",
    "    term3 = sum(y*sigma_z*(1-sigma_z)*estimation_error)\n",
    "    return (np.array([term1,term2,term3]))/n\n",
    "    \n",
    "    "
   ]
  },
  {
   "cell_type": "code",
   "execution_count": 7,
   "metadata": {},
   "outputs": [],
   "source": [
    "def GradientDescentNonLinear(X,y,start,step_size,tolerance,Niter):    \n",
    "    ''' Will perform gradient descent on X (nx2), using target y (nx1) \n",
    "    '''    \n",
    "    gradNorm = 10000\n",
    "    i = 0\n",
    "    current_theta_estimate = start\n",
    "    norms = []\n",
    "    n = X.shape[0]            \n",
    "    while i<Niter and gradNorm > tolerance:        \n",
    "        z_estimate = current_theta_estimate[0]+current_theta_estimate[1]*X[:,0] + current_theta_estimate[2]*X[:,1]\n",
    "#         print(f\"z_estimate.shape = {z_estimate.shape}\")\n",
    "#         print(f\"z_estimate = {z_estimate}\")\n",
    "        grad = computeGradientNonLinear(X[:,0],X[:,1],z_estimate)\n",
    "#         print(f\"grad = {grad}\")\n",
    "        gradNorm = np.linalg.norm(grad)\n",
    "        norms.append(gradNorm)        \n",
    "        current_theta_estimate = current_theta_estimate - step_size*grad\n",
    "        i+=1\n",
    "    plt.plot(np.array(list(range(1,i+1))),norms)\n",
    "    plt.xlabel('Iterations')\n",
    "    plt.ylabel('||gradient||')\n",
    "    plt.grid(True)\n",
    "    plt.title(\"Convergence of gradient descent\")\n",
    "    print(f\"Started at location {start}\")\n",
    "    print(f\"Finished with {i} iterations\")\n",
    "    print(f\"Finished with gradient norm = {gradNorm}\")\n",
    "    print(f\"Finished at location {current_theta_estimate}\")\n",
    "    return current_theta_estimate\n",
    "    "
   ]
  },
  {
   "cell_type": "code",
   "execution_count": 8,
   "metadata": {},
   "outputs": [],
   "source": [
    "def VanillaLogisticRegressionNonLinear(X,y):    \n",
    "    '''Assumes that the input matrix is an nx2 numPy array with n observations and y is an nx1 target vector \n",
    "    '''\n",
    "    n = X.shape[0]\n",
    "#     theta_estimate_start = np.random.rand(3)\n",
    "    theta_estimate_start = np.array([0,1,1])\n",
    "    theta_estimate_start = np.array([0,1.5,2])\n",
    "    learning_rate = 1e-6\n",
    "    err_tolerance = 1e-6\n",
    "    MaxIter = 8000\n",
    "    estimated_coeff = GradientDescentNonLinear(X,y,theta_estimate_start,learning_rate,err_tolerance,MaxIter)\n",
    "    return estimated_coeff\n",
    "\n",
    "   \n",
    "\n",
    "    \n",
    "    "
   ]
  },
  {
   "cell_type": "code",
   "execution_count": 11,
   "metadata": {},
   "outputs": [
    {
     "name": "stdout",
     "output_type": "stream",
     "text": [
      "Started at location [0.  1.5 2. ]\n",
      "Finished with 8000 iterations\n",
      "Finished with gradient norm = 0.11734195571689643\n",
      "Finished at location [-6.02490666e-04  1.49947988e+00  2.00049799e+00]\n",
      "theta estimated [ theta0,theta1, theta2]: [-6.02490666e-04  1.49947988e+00  2.00049799e+00]\n",
      "Radius estimated : 1.4994800038539466\n",
      "Original Radius : 1.25\n",
      "[0, 0, 0, 0, 0, 1, 1, 1, 1, 1, 1]\n",
      "Sum error: 0.0\n",
      "Error probability : 0.0\n"
     ]
    },
    {
     "data": {
      "image/png": "[encoded data removed]",
      "text/plain": [
       "<Figure size 432x288 with 1 Axes>"
      ]
     },
     "metadata": {
      "needs_background": "light"
     },
     "output_type": "display_data"
    }
   ],
   "source": [
    "y=y.reshape(2*Npoints,)\n",
    "theta_est = VanillaLogisticRegressionNonLinear(X,y)\n",
    "print(f\"theta estimated [ theta0,theta1, theta2]: {theta_est}\")\n",
    "radius_true = (innerRadiusTrue+outerRadiusTrue)/2\n",
    "radius_est = np.sqrt(theta_est[0]**2 + theta_est[1]**2)\n",
    "print(f\"Radius estimated : {radius_est}\")\n",
    "print(f\"Original Radius : {radius_true}\")\n",
    "y_pred_algo = list(map(lambda q: 0 if q<radius_est else 1,(np.sqrt(X[:,0]**2+X[:,1]**2))))\n",
    "print(y_pred_algo[Npoints-5:Npoints+6])\n",
    "y_pred_algo = np.array(y_pred_algo)\n",
    "y = y.reshape(2*Npoints)\n",
    "sumErr = sum(abs(y_pred_algo-y))\n",
    "print(f\"Sum error: {sumErr}\")\n",
    "errRate = sumErr/(2*Npoints)\n",
    "print(f\"Error probability : {errRate}\")\n"
   ]
  },
  {
   "cell_type": "code",
   "execution_count": null,
   "metadata": {},
   "outputs": [],
   "source": []
  },
  {
   "cell_type": "code",
   "execution_count": null,
   "metadata": {},
   "outputs": [],
   "source": []
  }
 ],
 "metadata": {
  "kernelspec": {
   "display_name": "Python 3",
   "language": "python",
   "name": "python3"
  },
  "language_info": {
   "codemirror_mode": {
    "name": "ipython",
    "version": 3
   },
   "file_extension": ".py",
   "mimetype": "text/x-python",
   "name": "python",
   "nbconvert_exporter": "python",
   "pygments_lexer": "ipython3",
   "version": "3.7.4"
  }
 },
 "nbformat": 4,
 "nbformat_minor": 2
}
