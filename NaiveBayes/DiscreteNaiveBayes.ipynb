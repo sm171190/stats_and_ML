{
 "cells": [
  {
   "cell_type": "code",
   "execution_count": 276,
   "metadata": {},
   "outputs": [],
   "source": [
    "import numpy as np\n",
    "import pandas as pd"
   ]
  },
  {
   "cell_type": "code",
   "execution_count": 277,
   "metadata": {},
   "outputs": [],
   "source": [
    "csv_path = \"C://Users/saurmisr/Downloads/titanic.csv\"\n",
    "data = pd.read_csv(csv_path)"
   ]
  },
  {
   "cell_type": "code",
   "execution_count": 278,
   "metadata": {},
   "outputs": [
    {
     "data": {
      "text/html": [
       "<div>\n",
       "<style scoped>\n",
       "    .dataframe tbody tr th:only-of-type {\n",
       "        vertical-align: middle;\n",
       "    }\n",
       "\n",
       "    .dataframe tbody tr th {\n",
       "        vertical-align: top;\n",
       "    }\n",
       "\n",
       "    .dataframe thead th {\n",
       "        text-align: right;\n",
       "    }\n",
       "</style>\n",
       "<table border=\"1\" class=\"dataframe\">\n",
       "  <thead>\n",
       "    <tr style=\"text-align: right;\">\n",
       "      <th></th>\n",
       "      <th>Survived</th>\n",
       "      <th>Pclass</th>\n",
       "      <th>Name</th>\n",
       "      <th>Sex</th>\n",
       "      <th>Age</th>\n",
       "      <th>Siblings/Spouses Aboard</th>\n",
       "      <th>Parents/Children Aboard</th>\n",
       "      <th>Fare</th>\n",
       "    </tr>\n",
       "  </thead>\n",
       "  <tbody>\n",
       "    <tr>\n",
       "      <td>0</td>\n",
       "      <td>0</td>\n",
       "      <td>3</td>\n",
       "      <td>Mr. Owen Harris Braund</td>\n",
       "      <td>male</td>\n",
       "      <td>22.0</td>\n",
       "      <td>1</td>\n",
       "      <td>0</td>\n",
       "      <td>7.2500</td>\n",
       "    </tr>\n",
       "    <tr>\n",
       "      <td>1</td>\n",
       "      <td>1</td>\n",
       "      <td>1</td>\n",
       "      <td>Mrs. John Bradley (Florence Briggs Thayer) Cum...</td>\n",
       "      <td>female</td>\n",
       "      <td>38.0</td>\n",
       "      <td>1</td>\n",
       "      <td>0</td>\n",
       "      <td>71.2833</td>\n",
       "    </tr>\n",
       "    <tr>\n",
       "      <td>2</td>\n",
       "      <td>1</td>\n",
       "      <td>3</td>\n",
       "      <td>Miss. Laina Heikkinen</td>\n",
       "      <td>female</td>\n",
       "      <td>26.0</td>\n",
       "      <td>0</td>\n",
       "      <td>0</td>\n",
       "      <td>7.9250</td>\n",
       "    </tr>\n",
       "    <tr>\n",
       "      <td>3</td>\n",
       "      <td>1</td>\n",
       "      <td>1</td>\n",
       "      <td>Mrs. Jacques Heath (Lily May Peel) Futrelle</td>\n",
       "      <td>female</td>\n",
       "      <td>35.0</td>\n",
       "      <td>1</td>\n",
       "      <td>0</td>\n",
       "      <td>53.1000</td>\n",
       "    </tr>\n",
       "    <tr>\n",
       "      <td>4</td>\n",
       "      <td>0</td>\n",
       "      <td>3</td>\n",
       "      <td>Mr. William Henry Allen</td>\n",
       "      <td>male</td>\n",
       "      <td>35.0</td>\n",
       "      <td>0</td>\n",
       "      <td>0</td>\n",
       "      <td>8.0500</td>\n",
       "    </tr>\n",
       "  </tbody>\n",
       "</table>\n",
       "</div>"
      ],
      "text/plain": [
       "   Survived  Pclass                                               Name  \\\n",
       "0         0       3                             Mr. Owen Harris Braund   \n",
       "1         1       1  Mrs. John Bradley (Florence Briggs Thayer) Cum...   \n",
       "2         1       3                              Miss. Laina Heikkinen   \n",
       "3         1       1        Mrs. Jacques Heath (Lily May Peel) Futrelle   \n",
       "4         0       3                            Mr. William Henry Allen   \n",
       "\n",
       "      Sex   Age  Siblings/Spouses Aboard  Parents/Children Aboard     Fare  \n",
       "0    male  22.0                        1                        0   7.2500  \n",
       "1  female  38.0                        1                        0  71.2833  \n",
       "2  female  26.0                        0                        0   7.9250  \n",
       "3  female  35.0                        1                        0  53.1000  \n",
       "4    male  35.0                        0                        0   8.0500  "
      ]
     },
     "execution_count": 278,
     "metadata": {},
     "output_type": "execute_result"
    }
   ],
   "source": [
    "data.head()"
   ]
  },
  {
   "cell_type": "code",
   "execution_count": 279,
   "metadata": {},
   "outputs": [
    {
     "name": "stdout",
     "output_type": "stream",
     "text": [
      "0\n",
      "0\n",
      "0\n",
      "0\n",
      "0\n",
      "0\n"
     ]
    }
   ],
   "source": [
    "#Checking for missing data for all relevant features and the label\n",
    "print(data['Pclass'].isna().sum())\n",
    "print(data['Siblings/Spouses Aboard'].isna().sum())\n",
    "print(data['Parents/Children Aboard'].isna().sum())\n",
    "print(data['Age'].isna().sum())\n",
    "print(data['Fare'].isna().sum())\n",
    "print(data['Survived'].isna().sum())"
   ]
  },
  {
   "cell_type": "markdown",
   "metadata": {},
   "source": [
    "### FEATURE SET 1 ASSUMPTIONS:\n",
    "#### 1. We shall only consider the Passenger Class, Sex, Siblings/Spouses and Parents/Children columns as relevant indicators"
   ]
  },
  {
   "cell_type": "code",
   "execution_count": 280,
   "metadata": {},
   "outputs": [
    {
     "name": "stdout",
     "output_type": "stream",
     "text": [
      "(m,n): (887, 4)\n"
     ]
    }
   ],
   "source": [
    "yTrain = data['Survived'].to_numpy()\n",
    "PclassCol = data['Pclass'].to_numpy()\n",
    "siblings_or_spousesCol = data['Siblings/Spouses Aboard'].to_numpy()\n",
    "parents_or_childrenCol = data['Parents/Children Aboard'].to_numpy()\n",
    "sexCol = data['Sex'].apply(lambda X: 1 if X=='male' else 0).to_numpy()\n",
    "XTrainFeatureSet1 = np.column_stack((PclassCol,siblings_or_spousesCol,parents_or_childrenCol,sexCol))\n",
    "(m,n) = XTrainFeatureSet1.shape\n",
    "print(f'(m,n): {(m,n)}')"
   ]
  },
  {
   "cell_type": "markdown",
   "metadata": {},
   "source": [
    "### FEATURE SET 2 ASSUMPTIONS:\n",
    "#### 1. We shall only consider the Passenger Class, Sex,Age,Siblings/Spouses and Parents/Children columns as relevant indicators\n",
    "#### 2. We shall convert Age to a Boolean feature. "
   ]
  },
  {
   "cell_type": "code",
   "execution_count": 281,
   "metadata": {},
   "outputs": [
    {
     "name": "stdout",
     "output_type": "stream",
     "text": [
      "Mean Age: 29.471443066516347\n",
      "Median Age: 28.0\n",
      "(m,n): (887, 5)\n"
     ]
    }
   ],
   "source": [
    "meanAge = data['Age'].mean()\n",
    "medianAge = data['Age'].median()\n",
    "print(f'Mean Age: {meanAge}')\n",
    "print(f'Median Age: {medianAge}')\n",
    "AgeCol = data['Age'].apply(lambda X: 1 if X<40 else 0)\n",
    "XTrainFeatureSet2 = np.column_stack((PclassCol,siblings_or_spousesCol,parents_or_childrenCol,sexCol,AgeCol))\n",
    "(m,n) = XTrainFeatureSet2.shape\n",
    "print(f'(m,n): {(m,n)}')"
   ]
  },
  {
   "cell_type": "markdown",
   "metadata": {},
   "source": [
    "### FEATURE SET 3 ASSUMPTIONS:\n",
    "#### 1. We shall only consider the Passenger Class, Sex,Age,Siblings/Spouses, Parents/Children and Fare columns as relevant indicators\n",
    "#### 2. We shall convert Age and Fare to Boolean features. "
   ]
  },
  {
   "cell_type": "code",
   "execution_count": 282,
   "metadata": {},
   "outputs": [
    {
     "name": "stdout",
     "output_type": "stream",
     "text": [
      "Mean fare: 32.30542018038328\n",
      "Median Fare: 14.4542\n",
      "(m,n): (887, 6)\n"
     ]
    }
   ],
   "source": [
    "meanFare =data['Fare'].mean() \n",
    "medianFare = data[\"Fare\"].median()\n",
    "print(f'Mean fare: {meanFare}')\n",
    "print(f'Median Fare: {medianFare}')\n",
    "FareCol = data['Fare'].apply(lambda X: 1 if X<medianFare else 0)\n",
    "XTrainFeatureSet3 = np.column_stack((PclassCol,siblings_or_spousesCol,parents_or_childrenCol,sexCol,AgeCol,FareCol))\n",
    "(m,n) = XTrainFeatureSet3.shape\n",
    "print(f'(m,n): {(m,n)}')"
   ]
  },
  {
   "cell_type": "code",
   "execution_count": 283,
   "metadata": {},
   "outputs": [],
   "source": [
    "def pY(Y, C):\n",
    "    '''Returns the MLE-estimated probability that Y is in class C \n",
    "    '''\n",
    "    N=Y.size\n",
    "    return np.sum(Y==C)/N"
   ]
  },
  {
   "cell_type": "code",
   "execution_count": 292,
   "metadata": {},
   "outputs": [],
   "source": [
    "def findMaxFeatureSetSize(X):\n",
    "    J=0\n",
    "    n = X.shape[1]\n",
    "    for featureId in range(n):\n",
    "        N_distinct_feature_values = np.size(np.unique(X[:,featureId]))\n",
    "        if J< N_distinct_feature_values:\n",
    "            J = N_distinct_feature_values\n",
    "    return J\n",
    "    "
   ]
  },
  {
   "cell_type": "code",
   "execution_count": 285,
   "metadata": {},
   "outputs": [],
   "source": [
    "def getFeatureSpace(X):\n",
    "    n=X.shape[1]\n",
    "    J = findMaxFeatureSetSize(X)\n",
    "    S = np.zeros((n,J))\n",
    "    for featureId in range(n):\n",
    "        unique_feature_values  = np.unique(X[:,featureId])\n",
    "        N_values = unique_feature_values.size\n",
    "        S[featureId,:N_values] = unique_feature_values\n",
    "    \n",
    "    return S"
   ]
  },
  {
   "cell_type": "code",
   "execution_count": 286,
   "metadata": {},
   "outputs": [],
   "source": [
    "def tabulate_pX_given_Y(X,Y,beta_values):\n",
    "    '''\n",
    "    Returns the ML-estimated conditional probabilities Theta(i,j,k) = [P(Xi=xj|Y=k)], Theta(i,j,k) = P(Xi=xj|Y=k)\n",
    "    Theta is an nxJxK numpy array where Thetak(i,j,k) = P(Xi=xj|Y=k)  0<=i<n , 0<=j<J , 0<=k<K\n",
    "    '''     \n",
    "    classes = np.unique(Y)\n",
    "    K = classes.size\n",
    "    n = X.shape[1]\n",
    "    J= findMaxFeatureSetSize(X)\n",
    "    featureSpace = getFeatureSpace(X)\n",
    "    Theta  = np.zeros((n,J,K))\n",
    "    for k in range(K):  \n",
    "        row_ids_where_Y_equals_k = np.argwhere(Y==classes[k]) # Find the row numbers where Y=y \n",
    "        Ny = row_ids_where_Y_equals_k.shape[0] \n",
    "        for i in range(n):\n",
    "            for m in range(Ny):\n",
    "                rowId = row_ids_where_Y_equals_k[m][0]\n",
    "                j = np.where(featureSpace[i,:]==X[rowId,i])[0][0]\n",
    "                Theta[i,j,k]+=1\n",
    "        Theta[:,:,k]/=Ny\n",
    "        \n",
    "    return Theta"
   ]
  },
  {
   "cell_type": "code",
   "execution_count": 293,
   "metadata": {},
   "outputs": [],
   "source": [
    "Theta1 = tabulate_pX_given_Y(XTrainFeatureSet1,yTrain,None)\n",
    "Theta2 = tabulate_pX_given_Y(XTrainFeatureSet2,yTrain,None)\n",
    "Theta3 = tabulate_pX_given_Y(XTrainFeatureSet3,yTrain,None)"
   ]
  },
  {
   "cell_type": "code",
   "execution_count": 298,
   "metadata": {},
   "outputs": [],
   "source": [
    "def findObservedDataScore(x,Theta,logProb,featureSpace):\n",
    "    '''\n",
    "    Returns scores  = [P(X1=x1|Y=1)...P(Xn=xn|Y=1).P(Y=1),...,P(X1=x1|Y=K)...P(Xn=xn|Y=K).P(Y=K)], a 1xK numpy array\n",
    "    '''\n",
    "    n,J,K = Theta.shape\n",
    "    scores = np.zeros(K)\n",
    "    for k in range(K):\n",
    "        score=0\n",
    "        for i in range(n):\n",
    "            j = np.where(featureSpace[i,:]==x[i])[0][0]\n",
    "            score+=np.log(Theta[i,j,k])\n",
    "        score+=logProb[k]\n",
    "        scores[k]=score\n",
    "    \n",
    "    return scores              "
   ]
  },
  {
   "cell_type": "code",
   "execution_count": 299,
   "metadata": {},
   "outputs": [],
   "source": [
    "S1 = getFeatureSpace(XTrainFeatureSet1)\n",
    "S2 = getFeatureSpace(XTrainFeatureSet2)\n",
    "S3 = getFeatureSpace(XTrainFeatureSet3)\n",
    "logProb = np.log10(pY(yTrain,0)),np.log10(pY(yTrain,1))"
   ]
  },
  {
   "cell_type": "code",
   "execution_count": 300,
   "metadata": {},
   "outputs": [],
   "source": [
    "def predict(X,Theta,logProb,featureSpace):\n",
    "    M = X.shape[0]\n",
    "    predictions = np.zeros((M,1))\n",
    "    for m in range(M):\n",
    "        scores = findObservedDataScore(X[m,:],Theta,logProb,featureSpace)\n",
    "        if scores[0]>scores[1]:\n",
    "            predictions[m] = 0\n",
    "        else:\n",
    "            predictions[m] = 1\n",
    "    return predictions\n",
    "    "
   ]
  },
  {
   "cell_type": "code",
   "execution_count": 301,
   "metadata": {},
   "outputs": [
    {
     "name": "stderr",
     "output_type": "stream",
     "text": [
      "C:\\Users\\saurmisr\\AppData\\Local\\Continuum\\anaconda3\\lib\\site-packages\\ipykernel_launcher.py:11: RuntimeWarning: divide by zero encountered in log\n",
      "  # This is added back by InteractiveShellApp.init_path()\n"
     ]
    }
   ],
   "source": [
    "y_pred_train_1 = predict(XTrainFeatureSet1,Theta1,logProb,S1)\n",
    "y_pred_train_2 = predict(XTrainFeatureSet2,Theta2,logProb,S2)\n",
    "y_pred_train_3 = predict(XTrainFeatureSet3,Theta3,logProb,S3)"
   ]
  },
  {
   "cell_type": "code",
   "execution_count": null,
   "metadata": {},
   "outputs": [],
   "source": [
    "def getErrorRate(yPred,yActual):        \n",
    "    return np.sum(np.abs(yPred[:,0]-yActual))/yPred.size"
   ]
  },
  {
   "cell_type": "code",
   "execution_count": 302,
   "metadata": {},
   "outputs": [
    {
     "name": "stdout",
     "output_type": "stream",
     "text": [
      "ERROR RATES:\n",
      "FEATURE SET 1 : 0.20969560315670802 \n",
      "FEATURE SET 2 : 0.21195039458850057 \n",
      "FEATURE SET 3 : 0.24126268320180383 \n"
     ]
    }
   ],
   "source": [
    "print('ERROR RATES:')\n",
    "print(f'FEATURE SET 1 : {getErrorRate(y_pred_train_1,yTrain)} ')\n",
    "print(f'FEATURE SET 2 : {getErrorRate(y_pred_train_2,yTrain)} ')\n",
    "print(f'FEATURE SET 3 : {getErrorRate(y_pred_train_3,yTrain)} ')"
   ]
  },
  {
   "cell_type": "code",
   "execution_count": 303,
   "metadata": {},
   "outputs": [
    {
     "name": "stdout",
     "output_type": "stream",
     "text": [
      "SUCCESS RATES:\n",
      "FEATURE SET 1 : 0.790304396843292 \n",
      "FEATURE SET 2 : 0.7880496054114994 \n",
      "FEATURE SET 3 : 0.7587373167981961 \n"
     ]
    }
   ],
   "source": [
    "print('SUCCESS RATES:')\n",
    "print(f'FEATURE SET 1 : {1-getErrorRate(y_pred_train_1,yTrain)} ')\n",
    "print(f'FEATURE SET 2 : {1-getErrorRate(y_pred_train_2,yTrain)} ')\n",
    "print(f'FEATURE SET 3 : {1-getErrorRate(y_pred_train_3,yTrain)} ')"
   ]
  },
  {
   "cell_type": "code",
   "execution_count": null,
   "metadata": {},
   "outputs": [],
   "source": []
  }
 ],
 "metadata": {
  "kernelspec": {
   "display_name": "Python 3",
   "language": "python",
   "name": "python3"
  },
  "language_info": {
   "codemirror_mode": {
    "name": "ipython",
    "version": 3
   },
   "file_extension": ".py",
   "mimetype": "text/x-python",
   "name": "python",
   "nbconvert_exporter": "python",
   "pygments_lexer": "ipython3",
   "version": "3.7.4"
  }
 },
 "nbformat": 4,
 "nbformat_minor": 2
}
