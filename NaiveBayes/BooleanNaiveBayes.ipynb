{
 "cells": [
  {
   "cell_type": "code",
   "execution_count": 5,
   "metadata": {},
   "outputs": [],
   "source": [
    "import numpy as np\n",
    "import pandas as pd"
   ]
  },
  {
   "cell_type": "code",
   "execution_count": 6,
   "metadata": {},
   "outputs": [],
   "source": [
    "csv_path = \"C://Users/saurmisr/Downloads/titanic.csv\"\n",
    "data = pd.read_csv(csv_path)"
   ]
  },
  {
   "cell_type": "code",
   "execution_count": 7,
   "metadata": {},
   "outputs": [
    {
     "data": {
      "text/html": [
       "<div>\n",
       "<style scoped>\n",
       "    .dataframe tbody tr th:only-of-type {\n",
       "        vertical-align: middle;\n",
       "    }\n",
       "\n",
       "    .dataframe tbody tr th {\n",
       "        vertical-align: top;\n",
       "    }\n",
       "\n",
       "    .dataframe thead th {\n",
       "        text-align: right;\n",
       "    }\n",
       "</style>\n",
       "<table border=\"1\" class=\"dataframe\">\n",
       "  <thead>\n",
       "    <tr style=\"text-align: right;\">\n",
       "      <th></th>\n",
       "      <th>Survived</th>\n",
       "      <th>Pclass</th>\n",
       "      <th>Name</th>\n",
       "      <th>Sex</th>\n",
       "      <th>Age</th>\n",
       "      <th>Siblings/Spouses Aboard</th>\n",
       "      <th>Parents/Children Aboard</th>\n",
       "      <th>Fare</th>\n",
       "    </tr>\n",
       "  </thead>\n",
       "  <tbody>\n",
       "    <tr>\n",
       "      <td>0</td>\n",
       "      <td>0</td>\n",
       "      <td>3</td>\n",
       "      <td>Mr. Owen Harris Braund</td>\n",
       "      <td>male</td>\n",
       "      <td>22.0</td>\n",
       "      <td>1</td>\n",
       "      <td>0</td>\n",
       "      <td>7.2500</td>\n",
       "    </tr>\n",
       "    <tr>\n",
       "      <td>1</td>\n",
       "      <td>1</td>\n",
       "      <td>1</td>\n",
       "      <td>Mrs. John Bradley (Florence Briggs Thayer) Cum...</td>\n",
       "      <td>female</td>\n",
       "      <td>38.0</td>\n",
       "      <td>1</td>\n",
       "      <td>0</td>\n",
       "      <td>71.2833</td>\n",
       "    </tr>\n",
       "    <tr>\n",
       "      <td>2</td>\n",
       "      <td>1</td>\n",
       "      <td>3</td>\n",
       "      <td>Miss. Laina Heikkinen</td>\n",
       "      <td>female</td>\n",
       "      <td>26.0</td>\n",
       "      <td>0</td>\n",
       "      <td>0</td>\n",
       "      <td>7.9250</td>\n",
       "    </tr>\n",
       "    <tr>\n",
       "      <td>3</td>\n",
       "      <td>1</td>\n",
       "      <td>1</td>\n",
       "      <td>Mrs. Jacques Heath (Lily May Peel) Futrelle</td>\n",
       "      <td>female</td>\n",
       "      <td>35.0</td>\n",
       "      <td>1</td>\n",
       "      <td>0</td>\n",
       "      <td>53.1000</td>\n",
       "    </tr>\n",
       "    <tr>\n",
       "      <td>4</td>\n",
       "      <td>0</td>\n",
       "      <td>3</td>\n",
       "      <td>Mr. William Henry Allen</td>\n",
       "      <td>male</td>\n",
       "      <td>35.0</td>\n",
       "      <td>0</td>\n",
       "      <td>0</td>\n",
       "      <td>8.0500</td>\n",
       "    </tr>\n",
       "  </tbody>\n",
       "</table>\n",
       "</div>"
      ],
      "text/plain": [
       "   Survived  Pclass                                               Name  \\\n",
       "0         0       3                             Mr. Owen Harris Braund   \n",
       "1         1       1  Mrs. John Bradley (Florence Briggs Thayer) Cum...   \n",
       "2         1       3                              Miss. Laina Heikkinen   \n",
       "3         1       1        Mrs. Jacques Heath (Lily May Peel) Futrelle   \n",
       "4         0       3                            Mr. William Henry Allen   \n",
       "\n",
       "      Sex   Age  Siblings/Spouses Aboard  Parents/Children Aboard     Fare  \n",
       "0    male  22.0                        1                        0   7.2500  \n",
       "1  female  38.0                        1                        0  71.2833  \n",
       "2  female  26.0                        0                        0   7.9250  \n",
       "3  female  35.0                        1                        0  53.1000  \n",
       "4    male  35.0                        0                        0   8.0500  "
      ]
     },
     "execution_count": 7,
     "metadata": {},
     "output_type": "execute_result"
    }
   ],
   "source": [
    "data.head()"
   ]
  },
  {
   "cell_type": "code",
   "execution_count": 8,
   "metadata": {},
   "outputs": [
    {
     "name": "stdout",
     "output_type": "stream",
     "text": [
      "0\n",
      "0\n",
      "0\n",
      "0\n",
      "0\n",
      "0\n"
     ]
    }
   ],
   "source": [
    "#Checking for missing data for all relevant features and the label\n",
    "print(data['Pclass'].isna().sum())\n",
    "print(data['Siblings/Spouses Aboard'].isna().sum())\n",
    "print(data['Parents/Children Aboard'].isna().sum())\n",
    "print(data['Age'].isna().sum())\n",
    "print(data['Fare'].isna().sum())\n",
    "print(data['Survived'].isna().sum())"
   ]
  },
  {
   "cell_type": "markdown",
   "metadata": {},
   "source": [
    "### FEATURE SET 1 ASSUMPTIONS:\n",
    "#### 1. We shall only consider the Passenger Class, Sex, Siblings/Spouses and Parents/Children columns as relevant indicators\n",
    "#### 2. We shall convert all these to Boolean features. "
   ]
  },
  {
   "cell_type": "code",
   "execution_count": 9,
   "metadata": {},
   "outputs": [
    {
     "name": "stdout",
     "output_type": "stream",
     "text": [
      "(m,n): (887, 4)\n"
     ]
    }
   ],
   "source": [
    "yTrain = data['Survived'].to_numpy()\n",
    "PclassCol = data['Pclass'].apply(lambda X: 0 if X==1 else 1).to_numpy()\n",
    "siblings_or_spousesCol = data['Siblings/Spouses Aboard'].apply(lambda X: 1 if X>0 else 0).to_numpy()\n",
    "parents_or_childrenCol = data['Parents/Children Aboard'].apply(lambda X: 1 if X>0 else 0).to_numpy()\n",
    "sexCol = data['Sex'].apply(lambda X: 1 if X=='male' else 0).to_numpy()\n",
    "XTrainFeatureSet1 = np.column_stack((PclassCol,siblings_or_spousesCol,parents_or_childrenCol,sexCol))\n",
    "(m,n) = XTrainFeatureSet1.shape\n",
    "print(f'(m,n): {(m,n)}')"
   ]
  },
  {
   "cell_type": "markdown",
   "metadata": {},
   "source": [
    "### FEATURE SET 2 ASSUMPTIONS:\n",
    "#### 1. We shall only consider the Passenger Class, Sex,Age,Siblings/Spouses and Parents/Children columns as relevant indicators\n",
    "#### 2. We shall convert all these to Boolean features. "
   ]
  },
  {
   "cell_type": "code",
   "execution_count": 10,
   "metadata": {},
   "outputs": [
    {
     "name": "stdout",
     "output_type": "stream",
     "text": [
      "Mean Age: 29.471443066516347\n",
      "Median Age: 28.0\n",
      "(m,n): (887, 5)\n"
     ]
    }
   ],
   "source": [
    "meanAge = data['Age'].mean()\n",
    "medianAge = data['Age'].median()\n",
    "print(f'Mean Age: {meanAge}')\n",
    "print(f'Median Age: {medianAge}')\n",
    "AgeCol = data['Age'].apply(lambda X: 1 if X<40 else 0)\n",
    "XTrainFeatureSet2 = np.column_stack((PclassCol,siblings_or_spousesCol,parents_or_childrenCol,sexCol,AgeCol))\n",
    "(m,n) = XTrainFeatureSet2.shape\n",
    "print(f'(m,n): {(m,n)}')"
   ]
  },
  {
   "cell_type": "markdown",
   "metadata": {},
   "source": [
    "### FEATURE SET 3 ASSUMPTIONS:\n",
    "#### 1. We shall only consider the Passenger Class, Sex,Age,Siblings/Spouses, Parents/Children and Fare columns as relevant indicators\n",
    "#### 2. We shall convert all these to Boolean features. "
   ]
  },
  {
   "cell_type": "code",
   "execution_count": 11,
   "metadata": {},
   "outputs": [
    {
     "name": "stdout",
     "output_type": "stream",
     "text": [
      "Mean fare: 32.30542018038328\n",
      "Median Fare: 14.4542\n",
      "(m,n): (887, 6)\n"
     ]
    }
   ],
   "source": [
    "meanFare =data['Fare'].mean() \n",
    "medianFare = data[\"Fare\"].median()\n",
    "print(f'Mean fare: {meanFare}')\n",
    "print(f'Median Fare: {medianFare}')\n",
    "FareCol = data['Fare'].apply(lambda X: 1 if X<medianFare else 0)\n",
    "XTrainFeatureSet3 = np.column_stack((PclassCol,siblings_or_spousesCol,parents_or_childrenCol,sexCol,AgeCol,FareCol))\n",
    "(m,n) = XTrainFeatureSet3.shape\n",
    "print(f'(m,n): {(m,n)}')"
   ]
  },
  {
   "cell_type": "code",
   "execution_count": 12,
   "metadata": {},
   "outputs": [
    {
     "name": "stdout",
     "output_type": "stream",
     "text": [
      "Checking Passenger class column: 887\n",
      "Checking siblings/spouses column: 887\n",
      "Checking parents/children column: 887\n",
      "Checking Age column: 887\n",
      "Checking Fare column: 887\n",
      "Checking Sex column: 887\n"
     ]
    }
   ],
   "source": [
    "print(f'Checking Passenger class column: {np.sum((PclassCol)==0)+np.sum((PclassCol)==1)}')\n",
    "print(f'Checking siblings/spouses column: {np.sum((siblings_or_spousesCol)==0)+np.sum((siblings_or_spousesCol)==1)}')\n",
    "print(f'Checking parents/children column: {np.sum((parents_or_childrenCol)==0)+np.sum((parents_or_childrenCol)==1)}')\n",
    "print(f'Checking Age column: {np.sum((AgeCol)==0)+np.sum(AgeCol==1)}')\n",
    "print(f'Checking Fare column: {np.sum((FareCol)==0)+np.sum((FareCol)==1)}')\n",
    "print(f'Checking Sex column: {np.sum((sexCol)==0)+np.sum((sexCol)==1)}')\n"
   ]
  },
  {
   "cell_type": "code",
   "execution_count": 13,
   "metadata": {},
   "outputs": [],
   "source": [
    "def pY(Y, C):\n",
    "    '''Returns the MLE-estimated probability that Y is in class C \n",
    "    '''\n",
    "    N=Y.size\n",
    "    return np.sum(Y==C)/N"
   ]
  },
  {
   "cell_type": "code",
   "execution_count": 14,
   "metadata": {},
   "outputs": [],
   "source": [
    "def tabulate_pX_given_Y(X,Y,beta_values):\n",
    "    '''\n",
    "    Returns the MAP-estimated conditional probabilities D = [P(Xi=1|Y=y)]\n",
    "    D is a 2xn numpy array where D(y,i) = P(Xi=1|Y=y)    0<=y<=1 , 0<=i<n  \n",
    "    '''     \n",
    "    classes = np.unique(Y)\n",
    "    nClasses = classes.size\n",
    "    n = X.shape[1]\n",
    "    Theta = np.zeros((nClasses,n))\n",
    "    for y in range(nClasses):       \n",
    "        row_ids_where_Y_equals_y = np.argwhere(Y==classes[y]) # Find the row numbers where Y=y \n",
    "        Ny = row_ids_where_Y_equals_y.shape[0] \n",
    "        for i in range(n):                        \n",
    "            count_xi = 0\n",
    "            for j in range(Ny):\n",
    "                idx = row_ids_where_Y_equals_y[j]   #Convert row number to row index             \n",
    "                if X[idx,i] == 1:            \n",
    "                    count_xi +=1             \n",
    "#             Theta[y,i] = (count_xi+beta_values[0]-1)/(Ny+sum(beta_values)-2) # MAP estimate\n",
    "            Theta[y,i] = count_xi/Ny # ML estimate\n",
    "    return Theta"
   ]
  },
  {
   "cell_type": "code",
   "execution_count": 15,
   "metadata": {},
   "outputs": [
    {
     "name": "stdout",
     "output_type": "stream",
     "text": [
      "[[0.85321101 0.27706422 0.19082569 0.85137615]\n",
      " [0.60233918 0.38596491 0.31871345 0.31871345]]\n",
      "[[0.85321101 0.27706422 0.19082569 0.85137615 0.77247706]\n",
      " [0.60233918 0.38596491 0.31871345 0.31871345 0.78947368]]\n",
      "[[0.85321101 0.27706422 0.19082569 0.85137615 0.77247706 0.59816514]\n",
      " [0.60233918 0.38596491 0.31871345 0.31871345 0.78947368 0.3245614 ]]\n"
     ]
    }
   ],
   "source": [
    "D_feature_set1  =tabulate_pX_given_Y(XTrainFeatureSet1,yTrain,None)\n",
    "D_feature_set2  =tabulate_pX_given_Y(XTrainFeatureSet2,yTrain,None)\n",
    "D_feature_set3  =tabulate_pX_given_Y(XTrainFeatureSet3,yTrain,None)\n",
    "print(D_feature_set1)\n",
    "print(D_feature_set2)\n",
    "print(D_feature_set3)\n"
   ]
  },
  {
   "cell_type": "code",
   "execution_count": 16,
   "metadata": {},
   "outputs": [],
   "source": [
    "def findObservedDataScore(x,D,log_p0,log_p1):\n",
    "    '''\n",
    "    Returns score  = [P(X1=x1|Y=0)...P(Xn=xn|Y=0).P(Y=0), P(X1=x1|Y=1)...P(Xn=xn|Y=1).P(Y=1)] as a list with 2 elements\n",
    "    '''\n",
    "    #MAP estimate\n",
    "    class0_score = x.dot(np.log10(D[0,:])) + (np.ones(x.shape)-x).dot(1-np.log10(D[0,:])) + log_p0\n",
    "    class1_score = x.dot(np.log10(D[1,:])) + (np.ones(x.shape)-x).dot(1-np.log10(D[1,:])) + log_p1\n",
    "    \n",
    "    #MLE estimate\n",
    "#     class0_score = x.dot(np.log10(D[0,:])) + (np.ones(x.shape)-x).dot(1-np.log10(D[0,:])) \n",
    "#     class1_score = x.dot(np.log10(D[1,:])) + (np.ones(x.shape)-x).dot(1-np.log10(D[1,:])) \n",
    "    \n",
    "    return (class0_score,class1_score)                "
   ]
  },
  {
   "cell_type": "code",
   "execution_count": 17,
   "metadata": {},
   "outputs": [],
   "source": [
    "def predict(X,D,logp0,logp1):\n",
    "    M = X.shape[0]\n",
    "    predictions = np.zeros((M,1))\n",
    "    for m in range(M):\n",
    "        if m%10==0:\n",
    "            pass\n",
    "#             print(f'm: {m}')\n",
    "        scores = findObservedDataScore(X[m,:],D,logp0,logp1)\n",
    "        if scores[0]>scores[1]:\n",
    "            predictions[m] = 0\n",
    "        else:\n",
    "            predictions[m] = 1\n",
    "    return predictions\n",
    "    "
   ]
  },
  {
   "cell_type": "code",
   "execution_count": 18,
   "metadata": {},
   "outputs": [],
   "source": [
    "def getErrorRate(yPred,yActual):        \n",
    "    return np.sum(np.abs(yPred[:,0]-yActual))/yPred.size"
   ]
  },
  {
   "cell_type": "code",
   "execution_count": 19,
   "metadata": {},
   "outputs": [],
   "source": [
    "(logp0,logp1) = np.log10(pY(yTrain,0)),np.log10(pY(yTrain,1))\n",
    "y_pred_train_feature_set1 = predict(XTrainFeatureSet1,D_feature_set1,logp0,logp1)\n",
    "y_pred_train_feature_set2 = predict(XTrainFeatureSet2,D_feature_set2,logp0,logp1)\n",
    "y_pred_train_feature_set3 = predict(XTrainFeatureSet3,D_feature_set3,logp0,logp1)"
   ]
  },
  {
   "cell_type": "code",
   "execution_count": 20,
   "metadata": {},
   "outputs": [
    {
     "name": "stdout",
     "output_type": "stream",
     "text": [
      "ERROR RATES:\n",
      "Feature Set 1: 0.2705749718151071\n",
      "Feature Set 2: 0.26719278466741825\n",
      "Feature Set 3: 0.26268320180383314\n"
     ]
    }
   ],
   "source": [
    "error_rate_FestureSet1 = getErrorRate(y_pred_train_feature_set1,yTrain)\n",
    "error_rate_FestureSet2 = getErrorRate(y_pred_train_feature_set2,yTrain)\n",
    "error_rate_FestureSet3 = getErrorRate(y_pred_train_feature_set3,yTrain)\n",
    "print('ERROR RATES:')\n",
    "print(f'Feature Set 1: {error_rate_FestureSet1}')\n",
    "print(f'Feature Set 2: {error_rate_FestureSet2}')\n",
    "print(f'Feature Set 3: {error_rate_FestureSet3}')"
   ]
  },
  {
   "cell_type": "code",
   "execution_count": 21,
   "metadata": {},
   "outputs": [
    {
     "name": "stdout",
     "output_type": "stream",
     "text": [
      "SUCCESS RATES:\n",
      "Feature Set 1: 0.7294250281848929\n",
      "Feature Set 2: 0.7328072153325818\n",
      "Feature Set 3: 0.7373167981961668\n"
     ]
    }
   ],
   "source": [
    "print('SUCCESS RATES:')\n",
    "print(f'Feature Set 1: {1-error_rate_FestureSet1}')\n",
    "print(f'Feature Set 2: {1-error_rate_FestureSet2}')\n",
    "print(f'Feature Set 3: {1-error_rate_FestureSet3}')"
   ]
  },
  {
   "cell_type": "markdown",
   "metadata": {},
   "source": [
    "### Gaussian Naive Bayes"
   ]
  },
  {
   "cell_type": "code",
   "execution_count": null,
   "metadata": {},
   "outputs": [],
   "source": [
    "from sklearn.naive_bayes import GaussianNB\n",
    "clf = GaussianNB()\n",
    "X = data.drop(labels=['Survived','Name'],axis=1)\n",
    "X['Sex']=X['Sex'].apply(lambda X:0 if X=='male' else 0)\n",
    "y = data['Survived']\n",
    "clf.fit(X,y)\n",
    "y_pred_GNB = clf.predict(X)\n",
    "error_rate_GNB = np.sum(np.abs(y_pred_GNB-y))/y.size\n",
    "print(f'Error Rate: {error_rate_GNB}')\n",
    "print(f'Success Rate: {1-error_rate_GNB}')"
   ]
  },
  {
   "cell_type": "markdown",
   "metadata": {},
   "source": [
    "### Logistic Regression"
   ]
  },
  {
   "cell_type": "code",
   "execution_count": null,
   "metadata": {},
   "outputs": [],
   "source": [
    "from sklearn.linear_model import LogisticRegression\n",
    "clf = LogisticRegression()\n",
    "clf.fit(X,y)\n",
    "y_pred_LR = clf.predict(X)\n",
    "error_rate_LR = np.sum(np.abs(y_pred_LR-y))/y.size\n",
    "print(f'Error Rate: {error_rate_LR}')\n",
    "print(f'Success Rate: {1-error_rate_LR}')"
   ]
  },
  {
   "cell_type": "markdown",
   "metadata": {},
   "source": [
    "### Estimate some Conditional Probabilities of the form P(Survival|Sex,Pclass)"
   ]
  },
  {
   "cell_type": "code",
   "execution_count": null,
   "metadata": {},
   "outputs": [],
   "source": [
    "def calculateSurvivalChanceGivenSexandPclass(data,Sex,Pclass):\n",
    "    '''INPUT:\n",
    "    data: pandas dataframe\n",
    "    Sex : must be in ['male','female']\n",
    "    Pclass: must be in [1,2,3]\n",
    "    OUTPUT: P(Survival|Sex,Pclass) estimated using MLE\n",
    "    '''\n",
    "    assert Sex in ['male','female'], \"Sex should be male/female\"\n",
    "    assert Pclass in [1,2,3], \"Passenger Class should be 1/2/3\"\n",
    "    \n",
    "    #Pure Numpy\n",
    "    PclassCol = data.Pclass.to_numpy()\n",
    "    SexCol = data.Sex.to_numpy()\n",
    "    SurvivedCol = data.Survived.to_numpy()\n",
    "    n_sex_pClass = np.sum((PclassCol==Pclass) & (SexCol==Sex))\n",
    "    n_survived_sex_pclass = np.sum((PclassCol==Pclass) & (SexCol==Sex) & (SurvivedCol==1))\n",
    "    \n",
    "    #Pure Pandas\n",
    "#     n_sex_pClass = data.loc[(data['Pclass']==Pclass) & (data['Sex']==Sex)].shape[0]\n",
    "#     n_survived_sex_pclass = data.loc[(data['Pclass']==Pclass) & (data['Sex']==Sex) & (data['Survived']==1)].shape[0]\n",
    "    \n",
    "    return n_survived_sex_pclass/n_sex_pClass"
   ]
  },
  {
   "cell_type": "code",
   "execution_count": null,
   "metadata": {},
   "outputs": [],
   "source": [
    "calculateSurvivalChanceGivenSexandPclass(data,'male',1)"
   ]
  },
  {
   "cell_type": "code",
   "execution_count": null,
   "metadata": {},
   "outputs": [],
   "source": []
  }
 ],
 "metadata": {
  "kernelspec": {
   "display_name": "Python 3",
   "language": "python",
   "name": "python3"
  },
  "language_info": {
   "codemirror_mode": {
    "name": "ipython",
    "version": 3
   },
   "file_extension": ".py",
   "mimetype": "text/x-python",
   "name": "python",
   "nbconvert_exporter": "python",
   "pygments_lexer": "ipython3",
   "version": "3.7.4"
  }
 },
 "nbformat": 4,
 "nbformat_minor": 2
}
